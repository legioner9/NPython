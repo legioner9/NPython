{
  "cells": [
    {
      "cell_type": "markdown",
      "source": [
        "# НЕЙРОННЫЕ СЕТИ"
      ],
      "metadata": {
        "id": "buUGKA-Z_8kK"
      }
    },
    {
      "cell_type": "markdown",
      "metadata": {
        "id": "K-BAqDEY4ldv"
      },
      "source": [
        "# Определение тональности текста отзывов [YELP](https://www.yelp.com/dataset)\n",
        "\n",
        "\"Ищете ли вы только что открывшуюся пиццерию или кафе поблизости, Yelp - ваш местный гид по поиску идеального места, где можно поесть, сделать покупки, выпить, расслабиться и поиграть\" - Yelp\n",
        "\n",
        "Набор данных о тональности отзывов Yelp построен с учетом звезд 1 и 2 как отрицательных, а звезд 3 и 4 как положительных. Всего имеется 560 000 обучающих и 38 000 тестовых образцов. Отрицательная тональность относится к классу 1, а положительная — к классу 2."
      ]
    },
    {
      "cell_type": "code",
      "execution_count": 2,
      "metadata": {
        "id": "fN251ib04idq"
      },
      "outputs": [],
      "source": [
        "import pandas as pd\n",
        "import numpy as np\n",
        "import matplotlib.pyplot as plt\n",
        "%matplotlib inline\n",
        "\n",
        "import warnings\n",
        "warnings.filterwarnings(\"ignore\")"
      ]
    },
    {
      "cell_type": "markdown",
      "metadata": {
        "id": "S6itvI2G5H1k"
      },
      "source": [
        "## Загрузка набора данных"
      ]
    },
    {
      "cell_type": "code",
      "execution_count": 3,
      "metadata": {
        "colab": {
          "base_uri": "https://localhost:8080/"
        },
        "id": "TYf3S7he5KIU",
        "outputId": "19c4513b-615e-49f2-c5ff-d505f8b79b2c"
      },
      "outputs": [
        {
          "output_type": "stream",
          "name": "stdout",
          "text": [
            "--2023-06-17 06:20:17--  https://www.dropbox.com/s/ys8k290oev43h8x/yelp_review_polarity_csv.tgz?dl=1\n",
            "Resolving www.dropbox.com (www.dropbox.com)... 162.125.3.18, 2620:100:601d:18::a27d:512\n",
            "Connecting to www.dropbox.com (www.dropbox.com)|162.125.3.18|:443... connected.\n",
            "HTTP request sent, awaiting response... 302 Found\n",
            "Location: /s/dl/ys8k290oev43h8x/yelp_review_polarity_csv.tgz [following]\n",
            "--2023-06-17 06:20:17--  https://www.dropbox.com/s/dl/ys8k290oev43h8x/yelp_review_polarity_csv.tgz\n",
            "Reusing existing connection to www.dropbox.com:443.\n",
            "HTTP request sent, awaiting response... 302 Found\n",
            "Location: https://uc741c913e3c44579c7b028cd4f8.dl.dropboxusercontent.com/cd/0/get/B-LHbblTJffdWA6gIyZzj47pMXR26QUgw4_SJDN38lfbYnvsrdS2YlBCTePjV7cJxPuA1NUvouFynQkFcz2QeudTwRQfdoY9FnDPc-6dLh-h3xRgNn3Xm_gLrsQAt6hrYzo81DJryBXYmesUppRgZEDeJC5eBTsnJXR-nKXXk0D1PlbZ0nhfVrNHx7yedRpHjbw/file?dl=1# [following]\n",
            "--2023-06-17 06:20:18--  https://uc741c913e3c44579c7b028cd4f8.dl.dropboxusercontent.com/cd/0/get/B-LHbblTJffdWA6gIyZzj47pMXR26QUgw4_SJDN38lfbYnvsrdS2YlBCTePjV7cJxPuA1NUvouFynQkFcz2QeudTwRQfdoY9FnDPc-6dLh-h3xRgNn3Xm_gLrsQAt6hrYzo81DJryBXYmesUppRgZEDeJC5eBTsnJXR-nKXXk0D1PlbZ0nhfVrNHx7yedRpHjbw/file?dl=1\n",
            "Resolving uc741c913e3c44579c7b028cd4f8.dl.dropboxusercontent.com (uc741c913e3c44579c7b028cd4f8.dl.dropboxusercontent.com)... 162.125.3.15, 2620:100:6018:15::a27d:30f\n",
            "Connecting to uc741c913e3c44579c7b028cd4f8.dl.dropboxusercontent.com (uc741c913e3c44579c7b028cd4f8.dl.dropboxusercontent.com)|162.125.3.15|:443... connected.\n",
            "HTTP request sent, awaiting response... 200 OK\n",
            "Length: 166373201 (159M) [application/binary]\n",
            "Saving to: ‘yelp_review_polarity_csv.tgz’\n",
            "\n",
            "yelp_review_polarit 100%[===================>] 158.67M   116MB/s    in 1.4s    \n",
            "\n",
            "2023-06-17 06:20:20 (116 MB/s) - ‘yelp_review_polarity_csv.tgz’ saved [166373201/166373201]\n",
            "\n"
          ]
        }
      ],
      "source": [
        "!wget https://www.dropbox.com/s/ys8k290oev43h8x/yelp_review_polarity_csv.tgz?dl=1 -O yelp_review_polarity_csv.tgz"
      ]
    },
    {
      "cell_type": "code",
      "execution_count": 4,
      "metadata": {
        "colab": {
          "base_uri": "https://localhost:8080/"
        },
        "id": "RH95SEXB5R0V",
        "outputId": "cb68d0ab-fa5d-404b-d3bf-fcdae339b4bb"
      },
      "outputs": [
        {
          "output_type": "stream",
          "name": "stdout",
          "text": [
            "yelp_review_polarity_csv/\n",
            "yelp_review_polarity_csv/train.csv\n",
            "yelp_review_polarity_csv/readme.txt\n",
            "yelp_review_polarity_csv/test.csv\n"
          ]
        }
      ],
      "source": [
        "!tar -xvf yelp_review_polarity_csv.tgz"
      ]
    },
    {
      "cell_type": "markdown",
      "metadata": {
        "id": "9YjyMnJOHoSY"
      },
      "source": [
        "## Загружаем данные в память"
      ]
    },
    {
      "cell_type": "code",
      "execution_count": 5,
      "metadata": {
        "colab": {
          "base_uri": "https://localhost:8080/",
          "height": 423
        },
        "id": "viAteYU0HakW",
        "outputId": "791503f6-8835-4202-ee24-5b9ebae36864"
      },
      "outputs": [
        {
          "output_type": "execute_result",
          "data": {
            "text/plain": [
              "        Class                                             Review\n",
              "0           1  Unfortunately, the frustration of being Dr. Go...\n",
              "1           2  Been going to Dr. Goldberg for over 10 years. ...\n",
              "2           1  I don't know what Dr. Goldberg was like before...\n",
              "3           1  I'm writing this review to give you a heads up...\n",
              "4           2  All the food is great here. But the best thing...\n",
              "...       ...                                                ...\n",
              "559995      2  Ryan was as good as everyone on yelp has claim...\n",
              "559996      2  Professional \\nFriendly\\nOn time AND affordabl...\n",
              "559997      1  Phone calls always go to voicemail and message...\n",
              "559998      1  Looks like all of the good reviews have gone t...\n",
              "559999      2  Ryan Rocks! I called him this morning for some...\n",
              "\n",
              "[560000 rows x 2 columns]"
            ],
            "text/html": [
              "\n",
              "  <div id=\"df-10db3b41-8878-4eb1-a6d8-42f2b8d2f9f2\">\n",
              "    <div class=\"colab-df-container\">\n",
              "      <div>\n",
              "<style scoped>\n",
              "    .dataframe tbody tr th:only-of-type {\n",
              "        vertical-align: middle;\n",
              "    }\n",
              "\n",
              "    .dataframe tbody tr th {\n",
              "        vertical-align: top;\n",
              "    }\n",
              "\n",
              "    .dataframe thead th {\n",
              "        text-align: right;\n",
              "    }\n",
              "</style>\n",
              "<table border=\"1\" class=\"dataframe\">\n",
              "  <thead>\n",
              "    <tr style=\"text-align: right;\">\n",
              "      <th></th>\n",
              "      <th>Class</th>\n",
              "      <th>Review</th>\n",
              "    </tr>\n",
              "  </thead>\n",
              "  <tbody>\n",
              "    <tr>\n",
              "      <th>0</th>\n",
              "      <td>1</td>\n",
              "      <td>Unfortunately, the frustration of being Dr. Go...</td>\n",
              "    </tr>\n",
              "    <tr>\n",
              "      <th>1</th>\n",
              "      <td>2</td>\n",
              "      <td>Been going to Dr. Goldberg for over 10 years. ...</td>\n",
              "    </tr>\n",
              "    <tr>\n",
              "      <th>2</th>\n",
              "      <td>1</td>\n",
              "      <td>I don't know what Dr. Goldberg was like before...</td>\n",
              "    </tr>\n",
              "    <tr>\n",
              "      <th>3</th>\n",
              "      <td>1</td>\n",
              "      <td>I'm writing this review to give you a heads up...</td>\n",
              "    </tr>\n",
              "    <tr>\n",
              "      <th>4</th>\n",
              "      <td>2</td>\n",
              "      <td>All the food is great here. But the best thing...</td>\n",
              "    </tr>\n",
              "    <tr>\n",
              "      <th>...</th>\n",
              "      <td>...</td>\n",
              "      <td>...</td>\n",
              "    </tr>\n",
              "    <tr>\n",
              "      <th>559995</th>\n",
              "      <td>2</td>\n",
              "      <td>Ryan was as good as everyone on yelp has claim...</td>\n",
              "    </tr>\n",
              "    <tr>\n",
              "      <th>559996</th>\n",
              "      <td>2</td>\n",
              "      <td>Professional \\nFriendly\\nOn time AND affordabl...</td>\n",
              "    </tr>\n",
              "    <tr>\n",
              "      <th>559997</th>\n",
              "      <td>1</td>\n",
              "      <td>Phone calls always go to voicemail and message...</td>\n",
              "    </tr>\n",
              "    <tr>\n",
              "      <th>559998</th>\n",
              "      <td>1</td>\n",
              "      <td>Looks like all of the good reviews have gone t...</td>\n",
              "    </tr>\n",
              "    <tr>\n",
              "      <th>559999</th>\n",
              "      <td>2</td>\n",
              "      <td>Ryan Rocks! I called him this morning for some...</td>\n",
              "    </tr>\n",
              "  </tbody>\n",
              "</table>\n",
              "<p>560000 rows × 2 columns</p>\n",
              "</div>\n",
              "      <button class=\"colab-df-convert\" onclick=\"convertToInteractive('df-10db3b41-8878-4eb1-a6d8-42f2b8d2f9f2')\"\n",
              "              title=\"Convert this dataframe to an interactive table.\"\n",
              "              style=\"display:none;\">\n",
              "        \n",
              "  <svg xmlns=\"http://www.w3.org/2000/svg\" height=\"24px\"viewBox=\"0 0 24 24\"\n",
              "       width=\"24px\">\n",
              "    <path d=\"M0 0h24v24H0V0z\" fill=\"none\"/>\n",
              "    <path d=\"M18.56 5.44l.94 2.06.94-2.06 2.06-.94-2.06-.94-.94-2.06-.94 2.06-2.06.94zm-11 1L8.5 8.5l.94-2.06 2.06-.94-2.06-.94L8.5 2.5l-.94 2.06-2.06.94zm10 10l.94 2.06.94-2.06 2.06-.94-2.06-.94-.94-2.06-.94 2.06-2.06.94z\"/><path d=\"M17.41 7.96l-1.37-1.37c-.4-.4-.92-.59-1.43-.59-.52 0-1.04.2-1.43.59L10.3 9.45l-7.72 7.72c-.78.78-.78 2.05 0 2.83L4 21.41c.39.39.9.59 1.41.59.51 0 1.02-.2 1.41-.59l7.78-7.78 2.81-2.81c.8-.78.8-2.07 0-2.86zM5.41 20L4 18.59l7.72-7.72 1.47 1.35L5.41 20z\"/>\n",
              "  </svg>\n",
              "      </button>\n",
              "      \n",
              "  <style>\n",
              "    .colab-df-container {\n",
              "      display:flex;\n",
              "      flex-wrap:wrap;\n",
              "      gap: 12px;\n",
              "    }\n",
              "\n",
              "    .colab-df-convert {\n",
              "      background-color: #E8F0FE;\n",
              "      border: none;\n",
              "      border-radius: 50%;\n",
              "      cursor: pointer;\n",
              "      display: none;\n",
              "      fill: #1967D2;\n",
              "      height: 32px;\n",
              "      padding: 0 0 0 0;\n",
              "      width: 32px;\n",
              "    }\n",
              "\n",
              "    .colab-df-convert:hover {\n",
              "      background-color: #E2EBFA;\n",
              "      box-shadow: 0px 1px 2px rgba(60, 64, 67, 0.3), 0px 1px 3px 1px rgba(60, 64, 67, 0.15);\n",
              "      fill: #174EA6;\n",
              "    }\n",
              "\n",
              "    [theme=dark] .colab-df-convert {\n",
              "      background-color: #3B4455;\n",
              "      fill: #D2E3FC;\n",
              "    }\n",
              "\n",
              "    [theme=dark] .colab-df-convert:hover {\n",
              "      background-color: #434B5C;\n",
              "      box-shadow: 0px 1px 3px 1px rgba(0, 0, 0, 0.15);\n",
              "      filter: drop-shadow(0px 1px 2px rgba(0, 0, 0, 0.3));\n",
              "      fill: #FFFFFF;\n",
              "    }\n",
              "  </style>\n",
              "\n",
              "      <script>\n",
              "        const buttonEl =\n",
              "          document.querySelector('#df-10db3b41-8878-4eb1-a6d8-42f2b8d2f9f2 button.colab-df-convert');\n",
              "        buttonEl.style.display =\n",
              "          google.colab.kernel.accessAllowed ? 'block' : 'none';\n",
              "\n",
              "        async function convertToInteractive(key) {\n",
              "          const element = document.querySelector('#df-10db3b41-8878-4eb1-a6d8-42f2b8d2f9f2');\n",
              "          const dataTable =\n",
              "            await google.colab.kernel.invokeFunction('convertToInteractive',\n",
              "                                                     [key], {});\n",
              "          if (!dataTable) return;\n",
              "\n",
              "          const docLinkHtml = 'Like what you see? Visit the ' +\n",
              "            '<a target=\"_blank\" href=https://colab.research.google.com/notebooks/data_table.ipynb>data table notebook</a>'\n",
              "            + ' to learn more about interactive tables.';\n",
              "          element.innerHTML = '';\n",
              "          dataTable['output_type'] = 'display_data';\n",
              "          await google.colab.output.renderOutput(dataTable, element);\n",
              "          const docLink = document.createElement('div');\n",
              "          docLink.innerHTML = docLinkHtml;\n",
              "          element.appendChild(docLink);\n",
              "        }\n",
              "      </script>\n",
              "    </div>\n",
              "  </div>\n",
              "  "
            ]
          },
          "metadata": {},
          "execution_count": 5
        }
      ],
      "source": [
        "train = pd.read_csv('yelp_review_polarity_csv/train.csv',\n",
        "                    header=None,\n",
        "                    names=['Class', 'Review'])\n",
        "train"
      ]
    },
    {
      "cell_type": "markdown",
      "metadata": {
        "id": "gA0GvoWDKulp"
      },
      "source": [
        "Выделяем данные для обучения"
      ]
    },
    {
      "cell_type": "code",
      "execution_count": 6,
      "metadata": {
        "colab": {
          "base_uri": "https://localhost:8080/"
        },
        "id": "xKdpzAQKLUsh",
        "outputId": "ad050f3c-3cc6-4ee1-fa29-4a48f809569f"
      },
      "outputs": [
        {
          "output_type": "execute_result",
          "data": {
            "text/plain": [
              "0    Unfortunately, the frustration of being Dr. Go...\n",
              "1    Been going to Dr. Goldberg for over 10 years. ...\n",
              "2    I don't know what Dr. Goldberg was like before...\n",
              "3    I'm writing this review to give you a heads up...\n",
              "4    All the food is great here. But the best thing...\n",
              "Name: Review, dtype: object"
            ]
          },
          "metadata": {},
          "execution_count": 6
        }
      ],
      "source": [
        "reviews = train['Review']\n",
        "reviews[:5]"
      ]
    },
    {
      "cell_type": "markdown",
      "metadata": {
        "id": "EyruZkQeLnPa"
      },
      "source": [
        "Выделяем правильные ответы"
      ]
    },
    {
      "cell_type": "code",
      "execution_count": 7,
      "metadata": {
        "colab": {
          "base_uri": "https://localhost:8080/"
        },
        "id": "5t_vJBSyIUoG",
        "outputId": "e6107b03-29c3-4d38-dd22-4a2f24575080"
      },
      "outputs": [
        {
          "output_type": "execute_result",
          "data": {
            "text/plain": [
              "0         0\n",
              "1         1\n",
              "2         0\n",
              "3         0\n",
              "4         1\n",
              "         ..\n",
              "559995    1\n",
              "559996    1\n",
              "559997    0\n",
              "559998    0\n",
              "559999    1\n",
              "Name: Class, Length: 560000, dtype: int64"
            ]
          },
          "metadata": {},
          "execution_count": 7
        }
      ],
      "source": [
        "y_train = train['Class'] - 1\n",
        "y_train"
      ]
    },
    {
      "cell_type": "markdown",
      "metadata": {
        "id": "781XOtGr-sy3"
      },
      "source": [
        "Тоже самое делаем для тестовых данных"
      ]
    },
    {
      "cell_type": "code",
      "execution_count": 8,
      "metadata": {
        "colab": {
          "base_uri": "https://localhost:8080/"
        },
        "id": "XTrXkLz7R8qq",
        "outputId": "8c688098-782a-4962-b0dd-4430f49e0b6b"
      },
      "outputs": [
        {
          "output_type": "execute_result",
          "data": {
            "text/plain": [
              "0        1\n",
              "1        0\n",
              "2        1\n",
              "3        0\n",
              "4        1\n",
              "        ..\n",
              "37995    0\n",
              "37996    1\n",
              "37997    0\n",
              "37998    0\n",
              "37999    0\n",
              "Name: Class, Length: 38000, dtype: int64"
            ]
          },
          "metadata": {},
          "execution_count": 8
        }
      ],
      "source": [
        "test = pd.read_csv('yelp_review_polarity_csv/test.csv',\n",
        "                    header=None,\n",
        "                    names=['Class', 'Review'])\n",
        "reviews_test = test['Review']\n",
        "y_test = test['Class'] - 1\n",
        "y_test"
      ]
    },
    {
      "cell_type": "markdown",
      "metadata": {
        "id": "7JuLOCqpLsNL"
      },
      "source": [
        "## Токенизация текста"
      ]
    },
    {
      "cell_type": "markdown",
      "metadata": {
        "id": "x1pdR21nHouf"
      },
      "source": [
        "Токенизировать - значит, поделить текст на части: слова, ключевые слова, фразы, символы и т.д., иными словами **токены**.\n",
        "\n",
        "Самый наивный способ токенизировать текст - разделить с помощью функции `split()`. Но `split` упускает очень много всего, например, не отделяет пунктуацию от слов. Кроме этого, есть ещё много менее тривиальных проблем, поэтому лучше использовать готовые токенизаторы."
      ]
    },
    {
      "cell_type": "markdown",
      "metadata": {
        "id": "52JrGZ50P54O"
      },
      "source": [
        "⏰⏰⏰**Ввод данных 1**"
      ]
    },
    {
      "cell_type": "code",
      "execution_count": 9,
      "metadata": {
        "colab": {
          "base_uri": "https://localhost:8080/"
        },
        "id": "QjGL8xjOH37v",
        "outputId": "b8608c1d-12d6-48a7-a7fc-6203e50b79ac"
      },
      "outputs": [
        {
          "output_type": "execute_result",
          "data": {
            "text/plain": [
              "['Если',\n",
              " 'б',\n",
              " 'мне',\n",
              " 'платили',\n",
              " 'каждый',\n",
              " 'раз,',\n",
              " 'Каждый',\n",
              " 'раз,',\n",
              " 'когда',\n",
              " 'я',\n",
              " 'думаю',\n",
              " 'о',\n",
              " 'тебе,',\n",
              " 'Я',\n",
              " 'бы',\n",
              " 'бомжевала',\n",
              " 'возле',\n",
              " 'трасс,',\n",
              " 'Я',\n",
              " 'бы',\n",
              " 'стала',\n",
              " 'самой',\n",
              " 'бедной',\n",
              " 'из',\n",
              " 'людей.']"
            ]
          },
          "metadata": {},
          "execution_count": 9
        }
      ],
      "source": [
        "# введите свою фразу\n",
        "sentence = 'Если б мне платили каждый раз, Каждый раз, когда я думаю о тебе, Я бы бомжевала возле трасс, Я бы стала самой бедной из людей.'\n",
        "sentence.split()"
      ]
    },
    {
      "cell_type": "markdown",
      "metadata": {
        "id": "O4n3U9Xw-1Pp"
      },
      "source": [
        "Воспользуемя продвинутым готовым токенизатором в библиотеке nltk. В nltk вообще есть довольно много токенизаторов, которые выполняют различные задачи. Более подробно [здесь](https://www.nltk.org/api/nltk.tokenize.html).\n",
        "\n",
        "Примеры использования разлиных имеющихся токенизаторов можно по [ссылке](https://github.com/newtechaudit/NLTK_tokenize/blob/main/NLTK_tokenize.ipynb).\n",
        "\n"
      ]
    },
    {
      "cell_type": "markdown",
      "metadata": {
        "id": "GznrRDku_emO"
      },
      "source": [
        "Чтобы использовать токенизатор ```word_tokenize```, нужно сначала скачать данные для nltk о пунктуации и стоп-словах. Это просто требование nltk.\n",
        "\n",
        "Стоп-слова - это слова, которые часто встречаются практически в любом тексте и ничего интересного не говорят о конретном документе. Для модели это просто шум. А шум нужно убирать. По аналогичной причине убирают и пунктуацию."
      ]
    },
    {
      "cell_type": "code",
      "execution_count": 10,
      "metadata": {
        "colab": {
          "base_uri": "https://localhost:8080/"
        },
        "id": "qUiHrwUwK4St",
        "outputId": "284d4d5f-8d98-40d9-bb8b-2cbdf7d5aca1"
      },
      "outputs": [
        {
          "output_type": "stream",
          "name": "stderr",
          "text": [
            "[nltk_data] Downloading package punkt to /root/nltk_data...\n",
            "[nltk_data]   Package punkt is already up-to-date!\n",
            "[nltk_data] Downloading package stopwords to /root/nltk_data...\n",
            "[nltk_data]   Package stopwords is already up-to-date!\n"
          ]
        },
        {
          "output_type": "execute_result",
          "data": {
            "text/plain": [
              "True"
            ]
          },
          "metadata": {},
          "execution_count": 10
        }
      ],
      "source": [
        "import nltk # библиотека nltk\n",
        "from nltk.tokenize import word_tokenize # готовый токенизатор библиотеки nltk\n",
        "nltk.download('punkt')\n",
        "nltk.download('stopwords')"
      ]
    },
    {
      "cell_type": "code",
      "execution_count": 11,
      "metadata": {
        "colab": {
          "base_uri": "https://localhost:8080/"
        },
        "id": "pXEobeDpK6ty",
        "outputId": "4d015173-7e7a-47ca-a3d3-ecac21d9381e"
      },
      "outputs": [
        {
          "output_type": "execute_result",
          "data": {
            "text/plain": [
              "['Если',\n",
              " 'б',\n",
              " 'мне',\n",
              " 'платили',\n",
              " 'каждый',\n",
              " 'раз',\n",
              " ',',\n",
              " 'Каждый',\n",
              " 'раз',\n",
              " ',',\n",
              " 'когда',\n",
              " 'я',\n",
              " 'думаю',\n",
              " 'о',\n",
              " 'тебе',\n",
              " ',',\n",
              " 'Я',\n",
              " 'бы',\n",
              " 'бомжевала',\n",
              " 'возле',\n",
              " 'трасс',\n",
              " ',',\n",
              " 'Я',\n",
              " 'бы',\n",
              " 'стала',\n",
              " 'самой',\n",
              " 'бедной',\n",
              " 'из',\n",
              " 'людей',\n",
              " '.']"
            ]
          },
          "metadata": {},
          "execution_count": 11
        }
      ],
      "source": [
        "word_tokenize(sentence)"
      ]
    },
    {
      "cell_type": "code",
      "execution_count": 12,
      "metadata": {
        "colab": {
          "base_uri": "https://localhost:8080/"
        },
        "id": "vv4JMEZ8K60k",
        "outputId": "5f023904-d587-44c8-a1c6-25609d6d8650"
      },
      "outputs": [
        {
          "output_type": "stream",
          "name": "stdout",
          "text": [
            "['i', 'me', 'my', 'myself', 'we', 'our', 'ours', 'ourselves', 'you', \"you're\", \"you've\", \"you'll\", \"you'd\", 'your', 'yours', 'yourself', 'yourselves', 'he', 'him', 'his', 'himself', 'she', \"she's\", 'her', 'hers', 'herself', 'it', \"it's\", 'its', 'itself', 'they', 'them', 'their', 'theirs', 'themselves', 'what', 'which', 'who', 'whom', 'this', 'that', \"that'll\", 'these', 'those', 'am', 'is', 'are', 'was', 'were', 'be', 'been', 'being', 'have', 'has', 'had', 'having', 'do', 'does', 'did', 'doing', 'a', 'an', 'the', 'and', 'but', 'if', 'or', 'because', 'as', 'until', 'while', 'of', 'at', 'by', 'for', 'with', 'about', 'against', 'between', 'into', 'through', 'during', 'before', 'after', 'above', 'below', 'to', 'from', 'up', 'down', 'in', 'out', 'on', 'off', 'over', 'under', 'again', 'further', 'then', 'once', 'here', 'there', 'when', 'where', 'why', 'how', 'all', 'any', 'both', 'each', 'few', 'more', 'most', 'other', 'some', 'such', 'no', 'nor', 'not', 'only', 'own', 'same', 'so', 'than', 'too', 'very', 's', 't', 'can', 'will', 'just', 'don', \"don't\", 'should', \"should've\", 'now', 'd', 'll', 'm', 'o', 're', 've', 'y', 'ain', 'aren', \"aren't\", 'couldn', \"couldn't\", 'didn', \"didn't\", 'doesn', \"doesn't\", 'hadn', \"hadn't\", 'hasn', \"hasn't\", 'haven', \"haven't\", 'isn', \"isn't\", 'ma', 'mightn', \"mightn't\", 'mustn', \"mustn't\", 'needn', \"needn't\", 'shan', \"shan't\", 'shouldn', \"shouldn't\", 'wasn', \"wasn't\", 'weren', \"weren't\", 'won', \"won't\", 'wouldn', \"wouldn't\"]\n",
            "['и', 'в', 'во', 'не', 'что', 'он', 'на', 'я', 'с', 'со', 'как', 'а', 'то', 'все', 'она', 'так', 'его', 'но', 'да', 'ты', 'к', 'у', 'же', 'вы', 'за', 'бы', 'по', 'только', 'ее', 'мне', 'было', 'вот', 'от', 'меня', 'еще', 'нет', 'о', 'из', 'ему', 'теперь', 'когда', 'даже', 'ну', 'вдруг', 'ли', 'если', 'уже', 'или', 'ни', 'быть', 'был', 'него', 'до', 'вас', 'нибудь', 'опять', 'уж', 'вам', 'ведь', 'там', 'потом', 'себя', 'ничего', 'ей', 'может', 'они', 'тут', 'где', 'есть', 'надо', 'ней', 'для', 'мы', 'тебя', 'их', 'чем', 'была', 'сам', 'чтоб', 'без', 'будто', 'чего', 'раз', 'тоже', 'себе', 'под', 'будет', 'ж', 'тогда', 'кто', 'этот', 'того', 'потому', 'этого', 'какой', 'совсем', 'ним', 'здесь', 'этом', 'один', 'почти', 'мой', 'тем', 'чтобы', 'нее', 'сейчас', 'были', 'куда', 'зачем', 'всех', 'никогда', 'можно', 'при', 'наконец', 'два', 'об', 'другой', 'хоть', 'после', 'над', 'больше', 'тот', 'через', 'эти', 'нас', 'про', 'всего', 'них', 'какая', 'много', 'разве', 'три', 'эту', 'моя', 'впрочем', 'хорошо', 'свою', 'этой', 'перед', 'иногда', 'лучше', 'чуть', 'том', 'нельзя', 'такой', 'им', 'более', 'всегда', 'конечно', 'всю', 'между']\n"
          ]
        }
      ],
      "source": [
        "# импортируем стоп-слова из библиотеки nltk\n",
        "from nltk.corpus import stopwords\n",
        "\n",
        "# посмотрим на стоп-слова\n",
        "print(stopwords.words('english'))\n",
        "print(stopwords.words('russian'))"
      ]
    },
    {
      "cell_type": "markdown",
      "metadata": {
        "id": "lwSdxcexQHIu"
      },
      "source": [
        "⏰⏰⏰**Ввод данных 2**"
      ]
    },
    {
      "cell_type": "code",
      "execution_count": 13,
      "metadata": {
        "colab": {
          "base_uri": "https://localhost:8080/"
        },
        "id": "BHMuu_HBK63J",
        "outputId": "d32a6d81-034e-4bb0-b172-a590d57984b2"
      },
      "outputs": [
        {
          "output_type": "stream",
          "name": "stdout",
          "text": [
            "['!', '\"', '#', '$', '%', '&', \"'\", '(', ')', '*', '+', ',', '-', '.', '/', ':', ';', '<', '=', '>', '?', '@', '[', '\\\\', ']', '^', '_', '`', '{', '|', '}', '~']\n",
            "[\"you've\", \"you'll\", \"you'd\", 'your', 'yours', 'yourself', 'yourselves', 'he', 'him', 'his', 'himself', 'she', \"she's\", 'her', 'hers', 'herself', 'it', \"it's\", 'its', 'itself', 'they', 'them', 'their', 'theirs', 'themselves', 'what', 'which', 'who', 'whom', 'this', 'that', \"that'll\", 'these', 'those', 'am', 'is', 'are', 'was', 'were', 'be', 'been', 'being', 'have', 'has', 'had', 'having', 'do', 'does', 'did', 'doing', 'a', 'an', 'the', 'and', 'but', 'if', 'or', 'because', 'as', 'until', 'while', 'of', 'at', 'by', 'for', 'with', 'about', 'against', 'between', 'into', 'through', 'during', 'before', 'after', 'above', 'below', 'to', 'from', 'up', 'down', 'in', 'out', 'on', 'off', 'over', 'under', 'again', 'further', 'then', 'once', 'here', 'there', 'when', 'where', 'why', 'how', 'all', 'any', 'both', 'each', 'few', 'more', 'most', 'other', 'some', 'such', 'no', 'nor', 'not', 'only', 'own', 'same', 'so', 'than', 'too', 'very', 's', 't', 'can', 'will', 'just', 'don', \"don't\", 'should', \"should've\", 'now', 'd', 'll', 'm', 'o', 're', 've', 'y', 'ain', 'aren', \"aren't\", 'couldn', \"couldn't\", 'didn', \"didn't\", 'doesn', \"doesn't\", 'hadn', \"hadn't\", 'hasn', \"hasn't\", 'haven', \"haven't\", 'isn', \"isn't\", 'ma', 'mightn', \"mightn't\", 'mustn', \"mustn't\", 'needn', \"needn't\", 'shan', \"shan't\", 'shouldn', \"shouldn't\", 'wasn', \"wasn't\", 'weren', \"weren't\", 'won', \"won't\", 'wouldn', \"wouldn't\"]\n"
          ]
        }
      ],
      "source": [
        "# попробовать разный noise\n",
        "from string import punctuation\n",
        "\n",
        "print(list(punctuation))\n",
        "\n",
        "stop = stopwords.words('english')\n",
        "\n",
        "del stop[0:10]\n",
        "\n",
        "print(stop)\n",
        "noise = stop + ['!', '\"', '#', '$', '%', '&', \"'\", '(', ')', '*', '+', ',', '-', '.']"
      ]
    },
    {
      "cell_type": "markdown",
      "metadata": {
        "id": "tx1XqngZVKyU"
      },
      "source": [
        "# Векторизаторы\n",
        "\n",
        "Векторизатор преобразует слово или набор слов в числовой вектор, понятный алгоритму машинного обучения, который привык работать с числовыми табличными данными."
      ]
    },
    {
      "cell_type": "markdown",
      "metadata": {
        "id": "6ofJ6YaFTWaP"
      },
      "source": [
        "## Мешок слов\n"
      ]
    },
    {
      "cell_type": "code",
      "execution_count": 14,
      "metadata": {
        "id": "v3suwtiNMH-e"
      },
      "outputs": [],
      "source": [
        "from sklearn.linear_model import LogisticRegression # можно заменить на любимый классификатор\n",
        "from sklearn.feature_extraction.text import CountVectorizer # модель \"мешка слов\""
      ]
    },
    {
      "cell_type": "markdown",
      "metadata": {
        "id": "X07DKVAsMQ_p"
      },
      "source": [
        "Самый простой способ извлечь признаки из текстовых данных -- векторизаторы: `CountVectorizer` и `TfidfVectorizer`\n",
        "\n",
        "Объект `CountVectorizer` делает следующую вещь:\n",
        "* строит для каждого документа (каждой пришедшей ему строки) вектор размерности `n`, где `n` -- количество слов или n-грам во всём корпусе\n",
        "* заполняет каждый i-тый элемент количеством вхождений слова в данный документ\n",
        "\n",
        "<a href=\"https://drive.google.com/uc?id=1ukv-FTj0jeVdcgVlOaNBocUfNuYGGVZg\n",
        "\" target=\"_blank\"><img src=\"https://drive.google.com/uc?id=1jHmkrGZTMawM46Yzxh243Ur1y5pYKzrl\"\n",
        "alt=\"IMAGE ALT TEXT HERE\" width=\"600\" border=\"0\" /></a>"
      ]
    },
    {
      "cell_type": "markdown",
      "metadata": {
        "id": "XkgRppNvIeB9"
      },
      "source": [
        "Самые мелкие структуры языка, с которыми мы работаем, называются **n-граммами**.\n",
        "У n-граммы есть параметр n - количество слов, которые попадают в такое представление текста.\n",
        "* Если n = 1 - то мы смотрим на то, сколько раз каждое слово встретилось в тексте. Получаем _униграммы_\n",
        "* Если n = 2 - то мы смотрим на то, сколько раз каждая пара подряд идущих слов, встретилась в тексте. Получаем _биграммы_"
      ]
    },
    {
      "cell_type": "markdown",
      "metadata": {
        "id": "XyIvp-Z9MWLG"
      },
      "source": [
        "На рисунке пример векторизации для униграмм, но можно использовать любые n-граммы. Для этого у объекта ```CountVectorizer()``` есть параметр **ngram_range**, который отвечает за то, какие n-граммы мы используем в качестве признаков:<br/>\n",
        "ngram_range=(1, 1) -- униграммы<br/>\n",
        "ngram_range=(3, 3) -- триграммы<br/>\n",
        "ngram_range=(1, 3) -- униграммы, биграммы и триграммы."
      ]
    },
    {
      "cell_type": "markdown",
      "metadata": {
        "id": "OASTb7lqH-8p"
      },
      "source": [
        "Собирем векторизатор, передав ему на вход:\n",
        "* какие n-граммы нам нужны, параметр **ngram_range**;\n",
        "* какой токенизатор мы используем, параметр **tokenizer**;\n",
        "* какие у нас стоп-слова, параметр **stop_words**."
      ]
    },
    {
      "cell_type": "code",
      "execution_count": 15,
      "metadata": {
        "colab": {
          "base_uri": "https://localhost:8080/"
        },
        "id": "Ul9QzwKfMIHA",
        "outputId": "f6798199-143d-4f51-a8b6-9dc55992fa88"
      },
      "outputs": [
        {
          "output_type": "stream",
          "name": "stdout",
          "text": [
            "CPU times: user 9min 56s, sys: 2.13 s, total: 9min 58s\n",
            "Wall time: 10min 3s\n"
          ]
        },
        {
          "output_type": "execute_result",
          "data": {
            "text/plain": [
              "[('unfortunately', 599590),\n",
              " ('frustration', 269464),\n",
              " ('dr.', 218245),\n",
              " ('goldberg', 281342),\n",
              " (\"'s\", 4373),\n",
              " ('patient', 435057),\n",
              " ('repeat', 481277),\n",
              " ('experience', 242028),\n",
              " ('i', 314513),\n",
              " (\"'ve\", 5487)]"
            ]
          },
          "metadata": {},
          "execution_count": 15
        }
      ],
      "source": [
        "vectorizer = CountVectorizer(ngram_range=(1, 1),\n",
        "                             tokenizer=word_tokenize,\n",
        "                             stop_words=noise)\n",
        "%time vectorized_x_train = vectorizer.fit_transform(reviews)\n",
        "list(vectorizer.vocabulary_.items())[:10]"
      ]
    },
    {
      "cell_type": "code",
      "execution_count": 16,
      "metadata": {
        "colab": {
          "base_uri": "https://localhost:8080/"
        },
        "id": "7xb2iklfOF0m",
        "outputId": "4d69c62e-f8a9-404d-ba26-67ed2d54ba5e"
      },
      "outputs": [
        {
          "output_type": "execute_result",
          "data": {
            "text/plain": [
              "(560000, 643271)"
            ]
          },
          "metadata": {},
          "execution_count": 16
        }
      ],
      "source": [
        "vectorized_x_train.shape"
      ]
    },
    {
      "cell_type": "code",
      "execution_count": 17,
      "metadata": {
        "colab": {
          "base_uri": "https://localhost:8080/",
          "height": 74
        },
        "id": "NBKxLFhNMIJl",
        "outputId": "892416ab-c546-4378-e1fe-b69138caf969"
      },
      "outputs": [
        {
          "output_type": "execute_result",
          "data": {
            "text/plain": [
              "LogisticRegression(random_state=19, solver='saga')"
            ],
            "text/html": [
              "<style>#sk-container-id-1 {color: black;background-color: white;}#sk-container-id-1 pre{padding: 0;}#sk-container-id-1 div.sk-toggleable {background-color: white;}#sk-container-id-1 label.sk-toggleable__label {cursor: pointer;display: block;width: 100%;margin-bottom: 0;padding: 0.3em;box-sizing: border-box;text-align: center;}#sk-container-id-1 label.sk-toggleable__label-arrow:before {content: \"▸\";float: left;margin-right: 0.25em;color: #696969;}#sk-container-id-1 label.sk-toggleable__label-arrow:hover:before {color: black;}#sk-container-id-1 div.sk-estimator:hover label.sk-toggleable__label-arrow:before {color: black;}#sk-container-id-1 div.sk-toggleable__content {max-height: 0;max-width: 0;overflow: hidden;text-align: left;background-color: #f0f8ff;}#sk-container-id-1 div.sk-toggleable__content pre {margin: 0.2em;color: black;border-radius: 0.25em;background-color: #f0f8ff;}#sk-container-id-1 input.sk-toggleable__control:checked~div.sk-toggleable__content {max-height: 200px;max-width: 100%;overflow: auto;}#sk-container-id-1 input.sk-toggleable__control:checked~label.sk-toggleable__label-arrow:before {content: \"▾\";}#sk-container-id-1 div.sk-estimator input.sk-toggleable__control:checked~label.sk-toggleable__label {background-color: #d4ebff;}#sk-container-id-1 div.sk-label input.sk-toggleable__control:checked~label.sk-toggleable__label {background-color: #d4ebff;}#sk-container-id-1 input.sk-hidden--visually {border: 0;clip: rect(1px 1px 1px 1px);clip: rect(1px, 1px, 1px, 1px);height: 1px;margin: -1px;overflow: hidden;padding: 0;position: absolute;width: 1px;}#sk-container-id-1 div.sk-estimator {font-family: monospace;background-color: #f0f8ff;border: 1px dotted black;border-radius: 0.25em;box-sizing: border-box;margin-bottom: 0.5em;}#sk-container-id-1 div.sk-estimator:hover {background-color: #d4ebff;}#sk-container-id-1 div.sk-parallel-item::after {content: \"\";width: 100%;border-bottom: 1px solid gray;flex-grow: 1;}#sk-container-id-1 div.sk-label:hover label.sk-toggleable__label {background-color: #d4ebff;}#sk-container-id-1 div.sk-serial::before {content: \"\";position: absolute;border-left: 1px solid gray;box-sizing: border-box;top: 0;bottom: 0;left: 50%;z-index: 0;}#sk-container-id-1 div.sk-serial {display: flex;flex-direction: column;align-items: center;background-color: white;padding-right: 0.2em;padding-left: 0.2em;position: relative;}#sk-container-id-1 div.sk-item {position: relative;z-index: 1;}#sk-container-id-1 div.sk-parallel {display: flex;align-items: stretch;justify-content: center;background-color: white;position: relative;}#sk-container-id-1 div.sk-item::before, #sk-container-id-1 div.sk-parallel-item::before {content: \"\";position: absolute;border-left: 1px solid gray;box-sizing: border-box;top: 0;bottom: 0;left: 50%;z-index: -1;}#sk-container-id-1 div.sk-parallel-item {display: flex;flex-direction: column;z-index: 1;position: relative;background-color: white;}#sk-container-id-1 div.sk-parallel-item:first-child::after {align-self: flex-end;width: 50%;}#sk-container-id-1 div.sk-parallel-item:last-child::after {align-self: flex-start;width: 50%;}#sk-container-id-1 div.sk-parallel-item:only-child::after {width: 0;}#sk-container-id-1 div.sk-dashed-wrapped {border: 1px dashed gray;margin: 0 0.4em 0.5em 0.4em;box-sizing: border-box;padding-bottom: 0.4em;background-color: white;}#sk-container-id-1 div.sk-label label {font-family: monospace;font-weight: bold;display: inline-block;line-height: 1.2em;}#sk-container-id-1 div.sk-label-container {text-align: center;}#sk-container-id-1 div.sk-container {/* jupyter's `normalize.less` sets `[hidden] { display: none; }` but bootstrap.min.css set `[hidden] { display: none !important; }` so we also need the `!important` here to be able to override the default hidden behavior on the sphinx rendered scikit-learn.org. See: https://github.com/scikit-learn/scikit-learn/issues/21755 */display: inline-block !important;position: relative;}#sk-container-id-1 div.sk-text-repr-fallback {display: none;}</style><div id=\"sk-container-id-1\" class=\"sk-top-container\"><div class=\"sk-text-repr-fallback\"><pre>LogisticRegression(random_state=19, solver=&#x27;saga&#x27;)</pre><b>In a Jupyter environment, please rerun this cell to show the HTML representation or trust the notebook. <br />On GitHub, the HTML representation is unable to render, please try loading this page with nbviewer.org.</b></div><div class=\"sk-container\" hidden><div class=\"sk-item\"><div class=\"sk-estimator sk-toggleable\"><input class=\"sk-toggleable__control sk-hidden--visually\" id=\"sk-estimator-id-1\" type=\"checkbox\" checked><label for=\"sk-estimator-id-1\" class=\"sk-toggleable__label sk-toggleable__label-arrow\">LogisticRegression</label><div class=\"sk-toggleable__content\"><pre>LogisticRegression(random_state=19, solver=&#x27;saga&#x27;)</pre></div></div></div></div></div>"
            ]
          },
          "metadata": {},
          "execution_count": 17
        }
      ],
      "source": [
        "clf = LogisticRegression(random_state=19, solver='saga') # фиксируем random_state для воспроизводимости результатов\n",
        "clf.fit(vectorized_x_train, y_train)"
      ]
    },
    {
      "cell_type": "code",
      "execution_count": 18,
      "metadata": {
        "id": "mHD-QVyoMIMT"
      },
      "outputs": [],
      "source": [
        "vectorized_x_test = vectorizer.transform(reviews_test)"
      ]
    },
    {
      "cell_type": "code",
      "execution_count": 19,
      "metadata": {
        "colab": {
          "base_uri": "https://localhost:8080/"
        },
        "id": "AgmhAdaSMIPA",
        "outputId": "5e1a6469-79ce-44e0-b1d0-17a5b79120d4"
      },
      "outputs": [
        {
          "output_type": "stream",
          "name": "stdout",
          "text": [
            "              precision    recall  f1-score   support\n",
            "\n",
            "           0       0.93      0.92      0.92     19000\n",
            "           1       0.92      0.93      0.92     19000\n",
            "\n",
            "    accuracy                           0.92     38000\n",
            "   macro avg       0.92      0.92      0.92     38000\n",
            "weighted avg       0.92      0.92      0.92     38000\n",
            "\n"
          ]
        }
      ],
      "source": [
        "from sklearn.metrics import classification_report\n",
        "pred = clf.predict(vectorized_x_test)\n",
        "print(classification_report(y_test, pred))"
      ]
    },
    {
      "cell_type": "markdown",
      "metadata": {
        "id": "I4CLrhvaUkl4"
      },
      "source": [
        "## TF-IDF"
      ]
    },
    {
      "cell_type": "markdown",
      "metadata": {
        "id": "mxioHPT8U9HG"
      },
      "source": [
        "`TfidfVectorizer` делает то же, что и `CountVectorizer`, но в качестве значений выдает **tf-idf** каждого слова.\n",
        "\n",
        "Как считается tf-idf:\n",
        "\n",
        "**TF (term frequency)** –  отношение числа вхождений некоторого слова к общему числу слов документа. Таким образом, оценивается важность слова t в пределах отдельного документа.:\n",
        "\n",
        "$$ TF(t,d) = \\frac{n_{t}}{\\sum_k n_{k}} $$\n",
        "\n",
        "$$or$$\n",
        "\n",
        "$$T F(t, d)=\\frac{\\text { Term t frequency in document } d}{\\text { Total words in document d }}$$\n",
        "\n",
        "**IDF (inverse document frequency)** – инверсия частоты, с которой некоторое слово встречается в документах коллекции. Учёт IDF уменьшает вес широкоупотребительных слов.\n",
        "\n",
        "$$ IDF(t, D) = \\mbox{log} \\frac{|D|}{|{d : t \\in d}|} $$\n",
        "\n",
        "$$or$$\n",
        "\n",
        "$$ IDF(t, D)=\\log \\left(\\frac{\\text { Total documents D}}{\\text { documents with term t }}\\right) $$\n",
        "\n",
        "Перемножаем их:\n",
        "$$TF-IDF(t, d, D) = TF(t,d) \\times IDF(i, D)$$\n",
        "\n",
        "TF-IDF - статистическая мера, используемая для оценки важности слова в контексте документа, являющегося частью коллекции документов или корпуса. Вес некоторого слова пропорционален частоте употребления этого слова в документе и обратно пропорционален частоте употребления слова во всех документах коллекции.\n",
        "\n",
        "Сакральный смысл: cлова, неважные для вообще всех документов, например, предлоги или междометия — получат очень низкий вес TF-IDF (потому что часто встречаются во всех-всех документах), а важные — высокий."
      ]
    },
    {
      "cell_type": "code",
      "execution_count": 20,
      "metadata": {
        "colab": {
          "base_uri": "https://localhost:8080/"
        },
        "id": "5m0a-WVpMIUf",
        "outputId": "0d5db2fa-d24f-4020-bfb5-90393a3b5ae6"
      },
      "outputs": [
        {
          "output_type": "stream",
          "name": "stdout",
          "text": [
            "CPU times: user 10min 33s, sys: 2.75 s, total: 10min 36s\n",
            "Wall time: 10min 39s\n",
            "              precision    recall  f1-score   support\n",
            "\n",
            "           0       0.94      0.94      0.94     19000\n",
            "           1       0.94      0.94      0.94     19000\n",
            "\n",
            "    accuracy                           0.94     38000\n",
            "   macro avg       0.94      0.94      0.94     38000\n",
            "weighted avg       0.94      0.94      0.94     38000\n",
            "\n"
          ]
        }
      ],
      "source": [
        "from sklearn.feature_extraction.text import TfidfVectorizer\n",
        "tfidf_vectorizer = TfidfVectorizer(ngram_range=(1, 1),\n",
        "                                   tokenizer=word_tokenize)\n",
        "\n",
        "# обучаем его и сразу применяем к x_train\n",
        "%time tfidf_vectorized_x_train = tfidf_vectorizer.fit_transform(reviews)\n",
        "\n",
        "# инициализируем и обучаем классификатор\n",
        "clf = LogisticRegression(random_state=19, solver='saga')\n",
        "clf.fit(tfidf_vectorized_x_train, y_train)\n",
        "\n",
        "# применяем обученный векторизатор к тестовым данным\n",
        "tfidf_vectorized_x_test = tfidf_vectorizer.transform(reviews_test)\n",
        "\n",
        "# получаем предсказания и выводим информацию о качестве\n",
        "pred = clf.predict(tfidf_vectorized_x_test)\n",
        "print(classification_report(y_test, pred))"
      ]
    },
    {
      "cell_type": "code",
      "execution_count": 21,
      "metadata": {
        "colab": {
          "base_uri": "https://localhost:8080/"
        },
        "id": "EA3a-ukEMIhj",
        "outputId": "dbf777ae-ee17-4e73-bcdf-e695569d42ef"
      },
      "outputs": [
        {
          "output_type": "stream",
          "name": "stdout",
          "text": [
            "              precision    recall  f1-score   support\n",
            "\n",
            "           0       0.51      0.70      0.59     19000\n",
            "           1       0.51      0.31      0.39     19000\n",
            "\n",
            "    accuracy                           0.51     38000\n",
            "   macro avg       0.51      0.51      0.49     38000\n",
            "weighted avg       0.51      0.51      0.49     38000\n",
            "\n"
          ]
        }
      ],
      "source": [
        "cool_token = ')'\n",
        "pred = [1 if cool_token in review else 0 for review in reviews_test]\n",
        "print(classification_report(y_test, pred))"
      ]
    },
    {
      "cell_type": "markdown",
      "metadata": {
        "id": "z_l1xauoeije"
      },
      "source": [
        "# Embeddings\n",
        "\n",
        "Семантическое представление слова, или семантический вектор слова (word embedding) – это представление слова как точки в многомерном пространстве. Данный тип вектора еще называют плотным, так как он имеет очень компактное представление (для решения многих задач хватает вектора длиной 300 элементов). При правильном построении алгоритма и достаточно большом корпусе слов для обучения семантически близкие слова должны лежать близко в N-мерном пространстве, в котором представляется вектор слова."
      ]
    },
    {
      "cell_type": "markdown",
      "metadata": {
        "id": "xS0sHttpKnLe"
      },
      "source": [
        "Подобные представления (Embedding) могут строиться в процессе обучения нейронной сети для решения конкретной задачи, для этого применяется специальный слой Embedding."
      ]
    },
    {
      "cell_type": "code",
      "execution_count": 22,
      "metadata": {
        "id": "UHUPZq_KPlim"
      },
      "outputs": [],
      "source": [
        "from tensorflow.keras.models import Sequential\n",
        "from tensorflow.keras.layers import Dense, Embedding, Flatten, Dropout\n",
        "from tensorflow.keras import utils\n",
        "from tensorflow.keras.preprocessing.sequence import pad_sequences\n",
        "from tensorflow.keras.preprocessing.text import Tokenizer"
      ]
    },
    {
      "cell_type": "code",
      "execution_count": 23,
      "metadata": {
        "id": "APKByKYE8yGG"
      },
      "outputs": [],
      "source": [
        "num_words = 10000 # ограничение длины используемого словаря\n",
        "max_review_len = 100 # ограничение длины отзыва"
      ]
    },
    {
      "cell_type": "markdown",
      "metadata": {
        "id": "DTtBSvAfMusM"
      },
      "source": [
        "Будем использовать токенизатор Keras, он считается проще и поэтому быстрее. Создадим и обучим токенизатор."
      ]
    },
    {
      "cell_type": "code",
      "execution_count": 24,
      "metadata": {
        "id": "x-AUMyjMLw5T"
      },
      "outputs": [],
      "source": [
        "tokenizer = Tokenizer(num_words=num_words)"
      ]
    },
    {
      "cell_type": "code",
      "execution_count": 25,
      "metadata": {
        "colab": {
          "base_uri": "https://localhost:8080/"
        },
        "id": "RfsqlGJZM7HR",
        "outputId": "585626c5-ba93-4522-8b51-eaa6606515bb"
      },
      "outputs": [
        {
          "output_type": "stream",
          "name": "stdout",
          "text": [
            "CPU times: user 52.7 s, sys: 149 ms, total: 52.9 s\n",
            "Wall time: 53 s\n"
          ]
        }
      ],
      "source": [
        "%time tokenizer.fit_on_texts(reviews)"
      ]
    },
    {
      "cell_type": "markdown",
      "metadata": {
        "id": "s_nyPsVLNW-f"
      },
      "source": [
        "Преобразуем отзывы Yelp в числовое представление"
      ]
    },
    {
      "cell_type": "code",
      "execution_count": 26,
      "metadata": {
        "id": "bMZ6e-zEJHr1"
      },
      "outputs": [],
      "source": [
        "sequences = tokenizer.texts_to_sequences(reviews)"
      ]
    },
    {
      "cell_type": "code",
      "execution_count": 27,
      "metadata": {
        "colab": {
          "base_uri": "https://localhost:8080/"
        },
        "id": "xIUJvjguN0S0",
        "outputId": "fed07977-728e-41a3-9193-79704029bd3a"
      },
      "outputs": [
        {
          "output_type": "stream",
          "name": "stdout",
          "text": [
            "Very disappointed in the customer service. We ordered Reuben's  and wanted coleslaw instead of kraut. They charged us $3.00 for the coleslaw. We will not be back . The iced tea is also terrible tasting.\n",
            "[42, 337, 10, 1, 218, 52, 15, 89, 2, 192, 2915, 389, 7, 19, 737, 70, 164, 591, 9, 1, 2915, 15, 66, 22, 30, 54, 1, 1327, 525, 11, 84, 462, 928]\n"
          ]
        }
      ],
      "source": [
        "index = 15\n",
        "print(reviews[index])\n",
        "print(sequences[index])"
      ]
    },
    {
      "cell_type": "code",
      "execution_count": 28,
      "metadata": {
        "colab": {
          "base_uri": "https://localhost:8080/"
        },
        "id": "sQn0O5kBtmyJ",
        "outputId": "9f041602-b1c8-48ea-feb4-dc88261bc807"
      },
      "outputs": [
        {
          "output_type": "execute_result",
          "data": {
            "text/plain": [
              "2915"
            ]
          },
          "metadata": {},
          "execution_count": 28
        }
      ],
      "source": [
        "tokenizer.word_index['coleslaw']"
      ]
    },
    {
      "cell_type": "markdown",
      "metadata": {
        "id": "neSZfrw3OYPx"
      },
      "source": [
        "Ограничиваем длину отзывов"
      ]
    },
    {
      "cell_type": "code",
      "execution_count": 29,
      "metadata": {
        "id": "ZGLpcETkN3ex"
      },
      "outputs": [],
      "source": [
        "x_train = pad_sequences(sequences, maxlen=max_review_len)"
      ]
    },
    {
      "cell_type": "code",
      "execution_count": 30,
      "metadata": {
        "colab": {
          "base_uri": "https://localhost:8080/"
        },
        "id": "mPW1VACmOrrm",
        "outputId": "c9716c62-f726-42fb-8b81-ff120534896b"
      },
      "outputs": [
        {
          "output_type": "execute_result",
          "data": {
            "text/plain": [
              "array([[   7,    1,  137,  112,   24,   18,   27,  189,   80, 3128,   10,\n",
              "        2636,   34, 1416,  462,  129,    8,  519,   13,  177,  129,  803,\n",
              "          88, 3812,    1,  446,    8,  392,  841,  115,  360,    7, 4136,\n",
              "        1438,    4,   43,   59, 1266,  118,   95,   46,    9,   13,   49,\n",
              "        1687,    4,  418,   18,    8,    3,   23,  563,  178,   16,  460,\n",
              "          18,  189,   80, 3128,    2,    3,   40,   78,   43,    8,   20,\n",
              "          23,  644, 1343,   20,   23, 3252,   18, 2921,  637,  227,  430,\n",
              "         476, 4312,    1,  446,   63,    2,   22,  215,    1,   63,   18,\n",
              "        2269,   13,    3,  249,   13,    3,   23,    4,  163,  939,  115,\n",
              "         237],\n",
              "       [   0,    0,    0,    0,    0,    0,    0,    0,    0,   69,  116,\n",
              "           4,  939,    9,   94,  201,  274,    3,  142,    3,    6,   44,\n",
              "           7,  177, 2084, 3252,   47,   62,  422,   25, 1334,   69,   51,\n",
              "          94,    1,  274,    2,   11,   61,   37,   56,    1,  219, 1403,\n",
              "           8,   11,   72,    7,  229,   22,   14,  165, 3092,  939,   13,\n",
              "           3,  266,   36,    3,   23,   62,   37,  522,   18,   20,    2,\n",
              "          11,   42, 1665,    2, 3122,   62,  398, 2902,    2, 2436,   37,\n",
              "           1,  146, 1047,   42, 3518,    2, 1687,    4,   30,  592,   10,\n",
              "           1, 7046,   21,  193, 3940,    7,   71, 2921, 1654,    2,   71,\n",
              "         628]], dtype=int32)"
            ]
          },
          "metadata": {},
          "execution_count": 30
        }
      ],
      "source": [
        "x_train[:2]"
      ]
    },
    {
      "cell_type": "markdown",
      "metadata": {
        "id": "QtH_5cZ0miWY"
      },
      "source": [
        "## Обучим нейронную сеть с коротким векторным представлением"
      ]
    },
    {
      "cell_type": "markdown",
      "metadata": {
        "id": "914DPE9VKz5W"
      },
      "source": [
        "Расмсмотрим новый вид слоя нейронной сети Embedding, его параметры:\n",
        "\n",
        "`input_dim` – длина словаря (количество уникальных слов в корпусе документов);\n",
        "\n",
        "`output_dim` – размерность плотного вектора на выходе из слоя Embedding;\n",
        "\n",
        "`input_length` – длина входной последовательности."
      ]
    },
    {
      "cell_type": "markdown",
      "metadata": {
        "id": "Q63sM_inQ9-N"
      },
      "source": [
        "⏰⏰⏰**Ввод данных 3**"
      ]
    },
    {
      "cell_type": "code",
      "execution_count": 31,
      "metadata": {
        "id": "EkAetQKpfFPX"
      },
      "outputs": [],
      "source": [
        "# Поменяйте параметры сети (например, dropout) и/или архитектуру - можно добавить слой, количество эпох и/или batch_size\n",
        "model = Sequential()\n",
        "model.add(Embedding(input_dim=num_words, output_dim=2, input_length=max_review_len))\n",
        "model.add(Dropout(0.25))\n",
        "model.add(Flatten())\n",
        "model.add(Dense(1, activation='sigmoid'))"
      ]
    },
    {
      "cell_type": "code",
      "execution_count": 32,
      "metadata": {
        "id": "UkLIeSr9fFSg"
      },
      "outputs": [],
      "source": [
        "model.compile(optimizer='adam',\n",
        "              loss='binary_crossentropy',\n",
        "              metrics=['accuracy'])"
      ]
    },
    {
      "cell_type": "code",
      "execution_count": 33,
      "metadata": {
        "colab": {
          "base_uri": "https://localhost:8080/"
        },
        "id": "r236V_4ifFV8",
        "outputId": "e13efa8b-3515-4df1-9b07-207e5c93a14f"
      },
      "outputs": [
        {
          "output_type": "stream",
          "name": "stdout",
          "text": [
            "Epoch 1/10\n",
            "1969/1969 [==============================] - 79s 39ms/step - loss: 0.3239 - accuracy: 0.8604 - val_loss: 0.1842 - val_accuracy: 0.9323\n",
            "Epoch 2/10\n",
            "1969/1969 [==============================] - 17s 9ms/step - loss: 0.2316 - accuracy: 0.9084 - val_loss: 0.1757 - val_accuracy: 0.9338\n",
            "Epoch 3/10\n",
            "1969/1969 [==============================] - 12s 6ms/step - loss: 0.2251 - accuracy: 0.9114 - val_loss: 0.1745 - val_accuracy: 0.9345\n",
            "Epoch 4/10\n",
            "1969/1969 [==============================] - 12s 6ms/step - loss: 0.2228 - accuracy: 0.9119 - val_loss: 0.1734 - val_accuracy: 0.9342\n",
            "Epoch 5/10\n",
            "1969/1969 [==============================] - 11s 6ms/step - loss: 0.2220 - accuracy: 0.9126 - val_loss: 0.1738 - val_accuracy: 0.9346\n",
            "Epoch 6/10\n",
            "1969/1969 [==============================] - 12s 6ms/step - loss: 0.2211 - accuracy: 0.9129 - val_loss: 0.1741 - val_accuracy: 0.9343\n",
            "Epoch 7/10\n",
            "1969/1969 [==============================] - 12s 6ms/step - loss: 0.2208 - accuracy: 0.9133 - val_loss: 0.1739 - val_accuracy: 0.9339\n",
            "Epoch 8/10\n",
            "1969/1969 [==============================] - 11s 6ms/step - loss: 0.2206 - accuracy: 0.9134 - val_loss: 0.1742 - val_accuracy: 0.9340\n",
            "Epoch 9/10\n",
            "1969/1969 [==============================] - 11s 6ms/step - loss: 0.2202 - accuracy: 0.9133 - val_loss: 0.1743 - val_accuracy: 0.9339\n",
            "Epoch 10/10\n",
            "1969/1969 [==============================] - 12s 6ms/step - loss: 0.2200 - accuracy: 0.9132 - val_loss: 0.1744 - val_accuracy: 0.9338\n"
          ]
        }
      ],
      "source": [
        "history = model.fit(x_train,\n",
        "                    y_train,\n",
        "                    epochs=10,\n",
        "                    batch_size=256,\n",
        "                    validation_split=0.1)"
      ]
    },
    {
      "cell_type": "code",
      "execution_count": 34,
      "metadata": {
        "colab": {
          "base_uri": "https://localhost:8080/",
          "height": 449
        },
        "id": "mdkqhEjzfJ_T",
        "outputId": "46b39dfa-af8b-461d-c37c-d16bfee288c8"
      },
      "outputs": [
        {
          "output_type": "display_data",
          "data": {
            "text/plain": [
              "<Figure size 640x480 with 1 Axes>"
            ],
            "image/png": "[encoded data removed]"
          },
          "metadata": {}
        }
      ],
      "source": [
        "plt.plot(history.history['accuracy'],\n",
        "         label='Доля верных ответов на обучающем наборе')\n",
        "plt.plot(history.history['val_accuracy'],\n",
        "         label='Доля верных ответов на проверочном наборе')\n",
        "plt.xlabel('Эпоха обучения')\n",
        "plt.ylabel('Доля верных ответов')\n",
        "plt.legend()\n",
        "plt.show()"
      ]
    },
    {
      "cell_type": "code",
      "execution_count": 35,
      "metadata": {
        "colab": {
          "base_uri": "https://localhost:8080/"
        },
        "id": "sPbtvmm9fKB4",
        "outputId": "8ed5f9ba-bd5a-4bc4-fd26-0dc67774a4f7"
      },
      "outputs": [
        {
          "output_type": "stream",
          "name": "stdout",
          "text": [
            "1188/1188 [==============================] - 4s 3ms/step - loss: 0.2014 - accuracy: 0.9228\n"
          ]
        }
      ],
      "source": [
        "test_sequences = tokenizer.texts_to_sequences(test['Review'])\n",
        "x_test = pad_sequences(test_sequences, maxlen=max_review_len)\n",
        "\n",
        "scores = model.evaluate(x_test, y_test, verbose=1)"
      ]
    },
    {
      "cell_type": "markdown",
      "metadata": {
        "id": "K0sTFo48h6dZ"
      },
      "source": [
        "## Посмотрим на плотное векторное представление слов (embeddings)"
      ]
    },
    {
      "cell_type": "code",
      "execution_count": 36,
      "metadata": {
        "colab": {
          "base_uri": "https://localhost:8080/"
        },
        "id": "0Pe-vdZihxTi",
        "outputId": "a7915a09-506f-46da-ab91-cc883d2f4123"
      },
      "outputs": [
        {
          "output_type": "execute_result",
          "data": {
            "text/plain": [
              "array([[ 0.0009134 ,  0.00367958],\n",
              "       [-0.00067676, -0.01163552],\n",
              "       [ 0.05685791,  0.05440509],\n",
              "       [ 0.04018993,  0.03629873],\n",
              "       [-0.03934397, -0.03131473]], dtype=float32)"
            ]
          },
          "metadata": {},
          "execution_count": 36
        }
      ],
      "source": [
        "embedding_matrix = model.layers[0].get_weights()[0]\n",
        "embedding_matrix[:5]"
      ]
    },
    {
      "cell_type": "code",
      "execution_count": 37,
      "metadata": {
        "colab": {
          "base_uri": "https://localhost:8080/"
        },
        "id": "aWfS-72_hxbB",
        "outputId": "37a0a7f3-8ae9-4509-d121-28642ff53b7d"
      },
      "outputs": [
        {
          "output_type": "stream",
          "name": "stdout",
          "text": [
            "Номер слова 2915\n",
            "Вектор для слова [-0.02130635  0.02262919]\n"
          ]
        }
      ],
      "source": [
        "word = 'coleslaw' # салат из капусты\n",
        "word_number = tokenizer.word_index[word]\n",
        "print('Номер слова', word_number)\n",
        "print('Вектор для слова', embedding_matrix[word_number])"
      ]
    },
    {
      "cell_type": "code",
      "execution_count": 38,
      "metadata": {
        "colab": {
          "base_uri": "https://localhost:8080/",
          "height": 447
        },
        "id": "TX7DhayhfFYl",
        "outputId": "2ee7accd-7359-4443-bdbe-4888e1613353"
      },
      "outputs": [
        {
          "output_type": "execute_result",
          "data": {
            "text/plain": [
              "<matplotlib.collections.PathCollection at 0x7f7c1d4992a0>"
            ]
          },
          "metadata": {},
          "execution_count": 38
        },
        {
          "output_type": "display_data",
          "data": {
            "text/plain": [
              "<Figure size 640x480 with 1 Axes>"
            ],
            "image/png": "[encoded data removed]"
          },
          "metadata": {}
        }
      ],
      "source": [
        "plt.scatter(embedding_matrix[:,0], embedding_matrix[:,1])"
      ]
    },
    {
      "cell_type": "markdown",
      "metadata": {
        "id": "p6f9o7vgRWkQ"
      },
      "source": [
        "⏰⏰⏰**Ввод данных 4**"
      ]
    },
    {
      "cell_type": "code",
      "execution_count": 39,
      "metadata": {
        "colab": {
          "base_uri": "https://localhost:8080/"
        },
        "id": "VHWppTDHkUVn",
        "outputId": "7d0b337d-2633-4113-ac3a-c11182963298"
      },
      "outputs": [
        {
          "output_type": "execute_result",
          "data": {
            "text/plain": [
              "[51, 388, 34, 143, 692, 3111, 462, 633]"
            ]
          },
          "metadata": {},
          "execution_count": 39
        }
      ],
      "source": [
        "# используйте свой набор слов: измените слова, имеющие эмоциональный окрас и добавьте нейтральные слова\n",
        "review_word = ['great',  'perfect', 'good',\n",
        "          'bad', 'awful', 'unpleasant', 'terrible', 'dirty']\n",
        "enc_review = []\n",
        "for word in review_word:\n",
        "    enc_review.append(tokenizer.word_index[word])\n",
        "enc_review"
      ]
    },
    {
      "cell_type": "code",
      "execution_count": 40,
      "metadata": {
        "colab": {
          "base_uri": "https://localhost:8080/"
        },
        "id": "4n-W9oLBkUYK",
        "outputId": "117407c3-a3b8-4712-e5aa-f02496520667"
      },
      "outputs": [
        {
          "output_type": "execute_result",
          "data": {
            "text/plain": [
              "array([[ 0.58859384,  0.55957466],\n",
              "       [ 0.82198715,  0.93282163],\n",
              "       [ 0.2361844 ,  0.22541954],\n",
              "       [-0.26061684, -0.20652726],\n",
              "       [-1.1469307 , -1.0908444 ],\n",
              "       [-0.6101918 , -0.73023176],\n",
              "       [-1.1672335 , -1.1332078 ],\n",
              "       [-0.67581695, -0.6945635 ]], dtype=float32)"
            ]
          },
          "metadata": {},
          "execution_count": 40
        }
      ],
      "source": [
        "review_vectors = embedding_matrix[enc_review]\n",
        "review_vectors"
      ]
    },
    {
      "cell_type": "markdown",
      "metadata": {
        "id": "ErPYK-2vmcJb"
      },
      "source": [
        "Визуализация обученного плотного векторного представления слов, по которым можно определить эмоциональную окраску текста"
      ]
    },
    {
      "cell_type": "code",
      "execution_count": 41,
      "metadata": {
        "colab": {
          "base_uri": "https://localhost:8080/",
          "height": 436
        },
        "id": "WSEry1k0kUam",
        "outputId": "57a1f721-5365-4e5e-eff1-69fd237dd31f"
      },
      "outputs": [
        {
          "output_type": "display_data",
          "data": {
            "text/plain": [
              "<Figure size 640x480 with 1 Axes>"
            ],
            "image/png": "[encoded data removed]"
          },
          "metadata": {}
        }
      ],
      "source": [
        "plt.rcParams.update({'font.size': 14})\n",
        "plt.scatter(review_vectors[:,0], review_vectors[:,1])\n",
        "for i, txt in enumerate(review_word):\n",
        "    plt.annotate(txt, (review_vectors[i,0], review_vectors[i,1]))"
      ]
    },
    {
      "cell_type": "markdown",
      "metadata": {
        "id": "ypBYfEwvO0c4"
      },
      "source": [
        "## Обучим нейронную сеть с длинным векторным представлением"
      ]
    },
    {
      "cell_type": "markdown",
      "metadata": {
        "id": "A_MnAfq_Rxev"
      },
      "source": [
        "⏰⏰⏰**Ввод данных 5**"
      ]
    },
    {
      "cell_type": "code",
      "execution_count": 42,
      "metadata": {
        "id": "8ETORhRkOtIn"
      },
      "outputs": [],
      "source": [
        "# поменяйте настройки сети: dropout, размер векторного представления в слое Embedding, количество нейронов в полносвязной части сети (можно добавить слой), количество эпох, размер бача\n",
        "model_big = Sequential()\n",
        "model_big.add(Embedding(num_words, 32, input_length=max_review_len))\n",
        "model.add(Dropout(0.4))\n",
        "model_big.add(Flatten())\n",
        "model_big.add(Dense(64))\n",
        "model.add(Dropout(0.8))\n",
        "model_big.add(Dense(1, activation='sigmoid'))"
      ]
    },
    {
      "cell_type": "code",
      "execution_count": 43,
      "metadata": {
        "id": "rzds0iUgPLwS"
      },
      "outputs": [],
      "source": [
        "model_big.compile(optimizer='adam',\n",
        "              loss='binary_crossentropy',\n",
        "              metrics=['accuracy'])"
      ]
    },
    {
      "cell_type": "code",
      "execution_count": 44,
      "metadata": {
        "colab": {
          "base_uri": "https://localhost:8080/"
        },
        "id": "3RjBsU8_PSqp",
        "outputId": "1d92c297-bfe6-4717-b149-d9587a86d395"
      },
      "outputs": [
        {
          "output_type": "stream",
          "name": "stdout",
          "text": [
            "Epoch 1/3\n",
            "3938/3938 [==============================] - 101s 25ms/step - loss: 0.2326 - accuracy: 0.9058 - val_loss: 0.1774 - val_accuracy: 0.9331\n",
            "Epoch 2/3\n",
            "3938/3938 [==============================] - 27s 7ms/step - loss: 0.1884 - accuracy: 0.9269 - val_loss: 0.1794 - val_accuracy: 0.9300\n",
            "Epoch 3/3\n",
            "3938/3938 [==============================] - 23s 6ms/step - loss: 0.1425 - accuracy: 0.9460 - val_loss: 0.2055 - val_accuracy: 0.9211\n"
          ]
        }
      ],
      "source": [
        "history = model_big.fit(x_train,\n",
        "                    y_train,\n",
        "                    epochs=3,\n",
        "                    batch_size=128,\n",
        "                    validation_split=0.1)"
      ]
    },
    {
      "cell_type": "code",
      "execution_count": 45,
      "metadata": {
        "colab": {
          "base_uri": "https://localhost:8080/",
          "height": 460
        },
        "id": "D87iUZmNP0rk",
        "outputId": "917fb9f8-5a36-46d4-93cd-ffd233982cba"
      },
      "outputs": [
        {
          "output_type": "display_data",
          "data": {
            "text/plain": [
              "<Figure size 640x480 with 1 Axes>"
            ],
            "image/png": "[encoded data removed]"
          },
          "metadata": {}
        }
      ],
      "source": [
        "plt.plot(history.history['accuracy'],\n",
        "         label='Доля верных ответов на обучающем наборе')\n",
        "plt.plot(history.history['val_accuracy'],\n",
        "         label='Доля верных ответов на проверочном наборе')\n",
        "plt.xlabel('Эпоха обучения')\n",
        "plt.ylabel('Доля верных ответов')\n",
        "plt.legend()\n",
        "plt.show()"
      ]
    },
    {
      "cell_type": "code",
      "execution_count": 46,
      "metadata": {
        "colab": {
          "base_uri": "https://localhost:8080/"
        },
        "id": "MkFvNfFPcaPX",
        "outputId": "dc889323-d729-4f1b-8444-f110fac9817a"
      },
      "outputs": [
        {
          "output_type": "stream",
          "name": "stdout",
          "text": [
            "1188/1188 [==============================] - 3s 3ms/step - loss: 0.2380 - accuracy: 0.9103\n"
          ]
        },
        {
          "output_type": "execute_result",
          "data": {
            "text/plain": [
              "[0.2379736304283142, 0.9103420972824097]"
            ]
          },
          "metadata": {},
          "execution_count": 46
        }
      ],
      "source": [
        "model_big.evaluate(x_test, y_test, verbose=1)"
      ]
    },
    {
      "cell_type": "markdown",
      "metadata": {
        "id": "_rpc1SbSdZJi"
      },
      "source": [
        "## Оцениваем тональность на собственном отзыве"
      ]
    },
    {
      "cell_type": "markdown",
      "metadata": {
        "id": "DkJy7OjTSb0H"
      },
      "source": [
        "⏰⏰⏰**Ввод данных 6**"
      ]
    },
    {
      "cell_type": "code",
      "source": [
        "text = '''Despite the common belief that this restaurant is outstanding,\n",
        "I find this point of view a sweeping generalization.\n",
        "Personally, I find this restaurant quite below the expectations if not to say pathetic.\n",
        "Poor service combined with absolutely ordinary cuisine makes me feel puzzled regarding such an overrated evaluation.\n",
        "'''"
      ],
      "metadata": {
        "id": "PW_dTkDB_hTY"
      },
      "execution_count": 52,
      "outputs": []
    },
    {
      "cell_type": "code",
      "source": [
        "sequence = tokenizer.texts_to_sequences([text])\n",
        "sequence"
      ],
      "metadata": {
        "colab": {
          "base_uri": "https://localhost:8080/"
        },
        "id": "R3CDjjNB_jFY",
        "outputId": "9ec84371-cc60-4947-c74f-21f4a52b8107"
      },
      "execution_count": 53,
      "outputs": [
        {
          "output_type": "execute_result",
          "data": {
            "text/plain": [
              "[[1119,\n",
              "  1,\n",
              "  2153,\n",
              "  7520,\n",
              "  13,\n",
              "  16,\n",
              "  104,\n",
              "  11,\n",
              "  1237,\n",
              "  3,\n",
              "  185,\n",
              "  16,\n",
              "  404,\n",
              "  7,\n",
              "  653,\n",
              "  5,\n",
              "  1546,\n",
              "  3,\n",
              "  185,\n",
              "  16,\n",
              "  104,\n",
              "  334,\n",
              "  1413,\n",
              "  1,\n",
              "  1214,\n",
              "  39,\n",
              "  22,\n",
              "  4,\n",
              "  145,\n",
              "  3188,\n",
              "  564,\n",
              "  52,\n",
              "  3676,\n",
              "  18,\n",
              "  495,\n",
              "  3357,\n",
              "  1593,\n",
              "  472,\n",
              "  32,\n",
              "  249,\n",
              "  8689,\n",
              "  2928,\n",
              "  381,\n",
              "  59,\n",
              "  3169]]"
            ]
          },
          "metadata": {},
          "execution_count": 53
        }
      ]
    },
    {
      "cell_type": "code",
      "source": [
        "data = pad_sequences(sequence, maxlen=max_review_len)\n",
        "data"
      ],
      "metadata": {
        "colab": {
          "base_uri": "https://localhost:8080/"
        },
        "id": "fxXg5naY_myn",
        "outputId": "22094ebf-4495-4170-d511-390c58cb998f"
      },
      "execution_count": 54,
      "outputs": [
        {
          "output_type": "execute_result",
          "data": {
            "text/plain": [
              "array([[   0,    0,    0,    0,    0,    0,    0,    0,    0,    0,    0,\n",
              "           0,    0,    0,    0,    0,    0,    0,    0,    0,    0,    0,\n",
              "           0,    0,    0,    0,    0,    0,    0,    0,    0,    0,    0,\n",
              "           0,    0,    0,    0,    0,    0,    0,    0,    0,    0,    0,\n",
              "           0,    0,    0,    0,    0,    0,    0,    0,    0,    0,    0,\n",
              "        1119,    1, 2153, 7520,   13,   16,  104,   11, 1237,    3,  185,\n",
              "          16,  404,    7,  653,    5, 1546,    3,  185,   16,  104,  334,\n",
              "        1413,    1, 1214,   39,   22,    4,  145, 3188,  564,   52, 3676,\n",
              "          18,  495, 3357, 1593,  472,   32,  249, 8689, 2928,  381,   59,\n",
              "        3169]], dtype=int32)"
            ]
          },
          "metadata": {},
          "execution_count": 54
        }
      ]
    },
    {
      "cell_type": "code",
      "source": [
        "result = model.predict(data)\n",
        "result"
      ],
      "metadata": {
        "colab": {
          "base_uri": "https://localhost:8080/"
        },
        "id": "nC5LPTr1_pqf",
        "outputId": "f4713287-facb-4e39-8148-4c27f2fcc4e3"
      },
      "execution_count": 55,
      "outputs": [
        {
          "output_type": "stream",
          "name": "stdout",
          "text": [
            "1/1 [==============================] - 0s 23ms/step\n"
          ]
        },
        {
          "output_type": "execute_result",
          "data": {
            "text/plain": [
              "array([[0.00218903]], dtype=float32)"
            ]
          },
          "metadata": {},
          "execution_count": 55
        }
      ]
    },
    {
      "cell_type": "code",
      "source": [
        "if result < 0.5:\n",
        "    print('Отзыв отрицательный')\n",
        "else:\n",
        "    print('Отзыв положительный')"
      ],
      "metadata": {
        "colab": {
          "base_uri": "https://localhost:8080/"
        },
        "id": "TaortUza_tIK",
        "outputId": "fe328955-68bb-4520-e84d-8fdfaa5cb437"
      },
      "execution_count": 56,
      "outputs": [
        {
          "output_type": "stream",
          "name": "stdout",
          "text": [
            "Отзыв отрицательный\n"
          ]
        }
      ]
    }
  ],
  "metadata": {
    "accelerator": "GPU",
    "colab": {
      "provenance": [],
      "gpuType": "T4"
    },
    "kernelspec": {
      "display_name": "Python 3",
      "name": "python3"
    }
  },
  "nbformat": 4,
  "nbformat_minor": 0
}