{
 "cells": [
  {
   "cell_type": "markdown",
   "metadata": {
    "id": "OulJtk4XKB3i"
   },
   "source": [
    "#  РАЗВЕДОЧНЫЙ АНАЛИЗ ДАННЫХ"
   ]
  },
  {
   "cell_type": "markdown",
   "metadata": {},
   "source": [
    "Задачи, которые ставятся перед аналитиками, достаточно разнообразны. Однако всё начинается с данных - с \"сырых\" данных.\n",
    "\n",
    "К сожалению, на практике данные в \"сыром\" виде обычно малопригодны для анализа. Процесс подготовки и очистки данных (препроцессинг, англ. data preparation, pre-processing, data cleaning) может быть весьма трудоёмким и по времени занимать больше, чем собственно построение и валидация моделей на основе данных. \n",
    "\n",
    "В результате получаем данные в удобном для анализа формате, как правило, табличном. Таблица (или датафрейм) имеет структуру \"объекты-признаки\": строки соответствуют отдельным сущностям (объектам, примерам, экземплярам), а столбцы - атрибутам этих сущностей (признакам).\n",
    "\n",
    "Обычно работа аналитика при решении задач анализа данных начинается с разведочного анализа данных.\n",
    "\n",
    "**Exploratory data analysis (EDA)** - это подход к анализу наборов данных для обобщения их основных характеристик, часто с использованием статистической графики и других методов визуализации данных."
   ]
  },
  {
   "cell_type": "code",
   "execution_count": null,
   "metadata": {},
   "outputs": [],
   "source": [
    "import pandas as pd\n",
    "import numpy as np\n",
    "import matplotlib.pyplot as plt\n",
    "import seaborn as sns\n",
    "\n",
    "import warnings\n",
    "warnings.filterwarnings('ignore')\n",
    "\n",
    "%matplotlib inline"
   ]
  },
  {
   "cell_type": "markdown",
   "metadata": {},
   "source": [
    "# Исследование основных характеристик датасета"
   ]
  },
  {
   "cell_type": "markdown",
   "metadata": {},
   "source": [
    "Частично с этими функциями мы встречались на прошлых занятиях, давайте еще раз повторим."
   ]
  },
  {
   "cell_type": "markdown",
   "metadata": {},
   "source": [
    "## Текстовое описание набора данных"
   ]
  },
  {
   "cell_type": "markdown",
   "metadata": {},
   "source": [
    "Затопление \"Титаника\" - одно из самых печально известных кораблекрушений в истории.\n",
    "\n",
    "15 апреля 1912 года, во время своего первого рейса, широко известный “непотопляемый” корабль \"Титаник\" затонул после столкновения с айсбергом. К сожалению, на борту не хватило спасательных шлюпок для всех, что привело к гибели 1502 из 2224 пассажиров и членов экипажа.\n",
    "\n",
    "Хотя в выживании был определенный элемент удачи, похоже, что у некоторых групп людей было больше шансов выжить, чем у других.\n",
    "\n",
    "Используя данные о пассажирах (например, имя, возраст, пол, социально-экономический класс и т. д.) необходимо узнать \"У каких людей было больше шансов выжить?”."
   ]
  },
  {
   "cell_type": "markdown",
   "metadata": {},
   "source": [
    "Каждая строчка набора данных содержит следующие поля:\n",
    "\n",
    "- `PassengerId` — номер пассажира;\n",
    "\n",
    "- `Survived` — выжил данный пассажир или нет (0 для умерших, 1 для выживших);\n",
    "\n",
    "- `Pclass` — класс пассажира (1 — высший, 2 — средний, 3 — низший);\n",
    "\n",
    "- `Name` — имя;\n",
    "\n",
    "- `Sex` — пол;\n",
    "\n",
    "- `Age` — возраст;\n",
    "\n",
    "- `SibSp` — количество братьев, сестер, сводных братьев, сводных сестер, супругов на борту титаника;\n",
    "\n",
    "- `Parch` — количество родителей, детей (в том числе приемных) на борту титаника;\n",
    "\n",
    "- `Ticket` — номер билета;\n",
    "\n",
    "- `Fare` — плата за проезд;\n",
    "\n",
    "- `Cabin` — каюта;\n",
    "\n",
    "- `Embarked` — порт посадки (C — Шербур; Q — Квинстаун; S — Саутгемптон)."
   ]
  },
  {
   "cell_type": "markdown",
   "metadata": {},
   "source": [
    "## Загрузка датасета"
   ]
  },
  {
   "cell_type": "markdown",
   "metadata": {},
   "source": [
    "Загрузим файлы датасета c помощью библиотеки [`Pandas`](https://pandas.pydata.org/)."
   ]
  },
  {
   "cell_type": "code",
   "execution_count": null,
   "metadata": {},
   "outputs": [],
   "source": [
    "df = pd.read_csv(\"titanic.csv\", sep=\";\")\n",
    "df"
   ]
  },
  {
   "cell_type": "markdown",
   "metadata": {},
   "source": [
    "## Исследование внешних признаков датасета"
   ]
  },
  {
   "cell_type": "code",
   "execution_count": null,
   "metadata": {},
   "outputs": [],
   "source": [
    "print(df.shape)\n",
    "print(f'Всего строк: {df.shape[0]}')\n",
    "print(f'Всего колонок: {df.shape[1]}')"
   ]
  },
  {
   "cell_type": "code",
   "execution_count": null,
   "metadata": {},
   "outputs": [],
   "source": [
    "df.columns"
   ]
  },
  {
   "cell_type": "code",
   "execution_count": null,
   "metadata": {},
   "outputs": [],
   "source": [
    "df.dtypes"
   ]
  },
  {
   "cell_type": "code",
   "execution_count": null,
   "metadata": {},
   "outputs": [],
   "source": [
    "df.info()"
   ]
  },
  {
   "cell_type": "markdown",
   "metadata": {},
   "source": [
    "- значение Age не задано для большого количества записей. Из 891 строк, возраст Age задан лишь для 714 записей.\n",
    "- каюты Cabin пропущены для большого количества записей. Только 204 из 891 записей содержат Cabin значения."
   ]
  },
  {
   "cell_type": "code",
   "execution_count": null,
   "metadata": {},
   "outputs": [],
   "source": [
    "for col in df.columns:\n",
    "    print('{} - {}'.format(col, df[df[col].isnull()].shape[0]))"
   ]
  },
  {
   "cell_type": "markdown",
   "metadata": {},
   "source": [
    "### Описательные статистики"
   ]
  },
  {
   "cell_type": "markdown",
   "metadata": {},
   "source": [
    "[Кванти́ль](https://ru.wikipedia.org/wiki/%D0%9A%D0%B2%D0%B0%D0%BD%D1%82%D0%B8%D0%BB%D1%8C) — значение, которое заданная случайная величина не превышает с фиксированной вероятностью. Если вероятность задана в процентах, то квантиль называется процентилем или перцентилем:\n",
    "\n",
    "$$P(X\\le x_\\alpha)\\le\\alpha$$\n",
    "\n",
    "Основные характеристики датасета можно получить с помощью функции [`pandas.DataFrame.describe`](https://pandas.pydata.org/pandas-docs/stable/reference/api/pandas.DataFrame.describe.html). Она отобразит различные величины, такие как количество, среднее, среднеквадратичное отклонение и т.д. для численных типов данных. Это может быть полезным для понимания распределения значений по датасету и статистики, особенно когда нет возможности просмотреть все записи в виду огромного их количества.\n",
    "\n",
    "Например, фраза \"90-й процентиль массы тела у новорожденных мальчиков составляет 4 кг\" означает, что 90 % мальчиков рождаются с весом меньше, либо равным 4 кг, а 10 % мальчиков рождаются с весом больше 4 кг.\n",
    "\n",
    "Пусть $X_1, \\ldots X_n$ — выборка.\n",
    "\n",
    "В итоге получаем следующие стоки:\n",
    "\n",
    "* `count` - количество non-NA/null наблюдений.\n",
    "* `mean` - средняя значений в колонке $\\overline{X}  = \\frac1n \\sum\\limits_{i=1}^n X_i$ .\n",
    "* `min` - минимальное значение в колонке $min(X_1, \\ldots X_n)$.\n",
    "* `25%` - 25-й перцентиль (0,25-квантиль называется первым (или нижним) кварти́лем (от лат. quarta — четверть)).\n",
    "* `50%` - 50-й перцентиль (0,5-квантиль называется медианой (от лат. mediāna — середина) или вторым кварти́лем) $P(X\\le x_{0.5})\\le 0.5$.\n",
    "* `75%` - 75-й перцентиль (0,75-квантиль называется третьим (или верхним) кварти́лем).\n",
    "* `max` - максимальное значение в колонке $max(X_1, \\ldots X_n)$."
   ]
  },
  {
   "cell_type": "code",
   "execution_count": null,
   "metadata": {},
   "outputs": [],
   "source": [
    "df.describe()"
   ]
  },
  {
   "cell_type": "markdown",
   "metadata": {},
   "source": [
    "Если необходимо отобразить статистики объектного типа можно воспользоваться атрибутом `.describe(include = ['O'])`. Это нужно для нечисловых данных, когда нельзя просто посчитать максимумы/среднее/и пр. для данных. Мы можем отнести такие данные к категориальному виду."
   ]
  },
  {
   "cell_type": "code",
   "execution_count": null,
   "metadata": {},
   "outputs": [],
   "source": [
    "df.describe(include=['O'])"
   ]
  },
  {
   "cell_type": "markdown",
   "metadata": {},
   "source": [
    "Что здесь можно увидеть интересного:\n",
    "\n",
    "- видно, что сущесвуют дубликаты номеров билетов Ticket и переиспользуются каюты Cabins (уникальных записей (unique) меньше, чем общего количества). \n",
    "- самый большой порядок дубликата билета - \"347082\". Он повторился 7 раз. Две каюты занимают по 4 человека. Они используют каюты \"B96 B98\".\n",
    "- 644 человека отбыли из порта \"S\".\n",
    "- из 891 записей, 574 были мужчины (male)."
   ]
  },
  {
   "cell_type": "markdown",
   "metadata": {},
   "source": [
    "Давайте проанализируем зависимости между разными данными по отношению к столбцу выживших(Survival), чтобы понять как разные признаки влияют на спасение. Чуть позже мы построим визуализации для более наглядного представления результатов."
   ]
  },
  {
   "cell_type": "markdown",
   "metadata": {},
   "source": [
    "#### 1. Правда ли, что пассажиры более высокого класса имеют большие шансы на спасение?"
   ]
  },
  {
   "cell_type": "markdown",
   "metadata": {},
   "source": [
    "Посмотрим на распределение классов"
   ]
  },
  {
   "cell_type": "code",
   "execution_count": null,
   "metadata": {},
   "outputs": [],
   "source": [
    "df['Pclass'].value_counts()"
   ]
  },
  {
   "cell_type": "markdown",
   "metadata": {},
   "source": [
    "Произведем агрегирование данных, общая процедура для работы функции `groupby` такая: разделение-применение-объединение."
   ]
  },
  {
   "attachments": {
    "2023-04-29_17-07-39.png": {
     "image/png": "[encoded data removed]"
    }
   },
   "cell_type": "markdown",
   "metadata": {},
   "source": [
    "![2023-04-29_17-07-39.png](attachment:2023-04-29_17-07-39.png)"
   ]
  },
  {
   "cell_type": "code",
   "execution_count": null,
   "metadata": {},
   "outputs": [],
   "source": [
    "df.groupby('Pclass')['Survived'].value_counts()"
   ]
  },
  {
   "cell_type": "code",
   "execution_count": null,
   "metadata": {},
   "outputs": [],
   "source": [
    "df[['Pclass', 'Survived']].groupby('Pclass', as_index = False).mean()"
   ]
  },
  {
   "cell_type": "markdown",
   "metadata": {},
   "source": [
    "#### 2. Правда ли, что женщины имеют большие шансы на спасение?"
   ]
  },
  {
   "cell_type": "code",
   "execution_count": null,
   "metadata": {},
   "outputs": [],
   "source": [
    "df['Sex'].value_counts()"
   ]
  },
  {
   "cell_type": "code",
   "execution_count": null,
   "metadata": {},
   "outputs": [],
   "source": [
    "df.groupby('Sex')['Survived'].value_counts()"
   ]
  },
  {
   "cell_type": "code",
   "execution_count": null,
   "metadata": {},
   "outputs": [],
   "source": [
    "df[['Sex', 'Survived']].groupby(['Sex'], as_index=False).mean()"
   ]
  },
  {
   "cell_type": "markdown",
   "metadata": {},
   "source": [
    "#### 3. Правда ли, что дети имеют большие шансы на спасение?"
   ]
  },
  {
   "cell_type": "code",
   "execution_count": null,
   "metadata": {},
   "outputs": [],
   "source": [
    "df['IsChild'] = [-1] * df.shape[0] \n",
    "df['IsChild'][df.Age < 20] = 1\n",
    "df['IsChild'][df.Age >= 20] = 0"
   ]
  },
  {
   "cell_type": "code",
   "execution_count": null,
   "metadata": {},
   "outputs": [],
   "source": [
    "df['IsChild'].value_counts()"
   ]
  },
  {
   "cell_type": "code",
   "execution_count": null,
   "metadata": {},
   "outputs": [],
   "source": [
    "df[df['IsChild']!=-1].groupby('IsChild')['Survived'].value_counts(normalize=True)"
   ]
  },
  {
   "cell_type": "markdown",
   "metadata": {},
   "source": [
    "#### 4. Cколько мужчин и женщин в каждом классе (Pclass)?"
   ]
  },
  {
   "cell_type": "markdown",
   "metadata": {},
   "source": [
    "Воспользуемся функцией для создания таблиц сопряженности. Таблица сопряженности, или перекрестная таблица (cross-tabulation, или для краткости `crosstab`) – это пример сводной таблицы, в которой представлены групповые частоты."
   ]
  },
  {
   "cell_type": "code",
   "execution_count": null,
   "metadata": {},
   "outputs": [],
   "source": [
    "pd.crosstab(df['Pclass'], df['Sex'])"
   ]
  },
  {
   "cell_type": "markdown",
   "metadata": {},
   "source": [
    "#### 5. Как обращались к мужчинам и женщинам в 1912?"
   ]
  },
  {
   "cell_type": "code",
   "execution_count": null,
   "metadata": {},
   "outputs": [],
   "source": [
    "df['Title'] = df.Name.str.extract(' ([A-Za-z]+)\\.')\n",
    "df"
   ]
  },
  {
   "cell_type": "code",
   "execution_count": null,
   "metadata": {},
   "outputs": [],
   "source": [
    "pd.crosstab(df['Title'], df['Sex'])"
   ]
  },
  {
   "cell_type": "code",
   "execution_count": null,
   "metadata": {},
   "outputs": [],
   "source": [
    "df['Title'] = df['Title'].replace(['Lady', 'Countess','Capt', 'Col', \\\n",
    "'Don', 'Dr', 'Major', 'Rev', 'Sir', 'Jonkheer', 'Dona'], 'Other')\n",
    "\n",
    "df['Title'] = df['Title'].replace('Mlle', 'Miss')\n",
    "df['Title'] = df['Title'].replace('Ms', 'Miss')\n",
    "df['Title'] = df['Title'].replace('Mme', 'Mrs')\n",
    "    \n",
    "df[['Title', 'Survived']].groupby(['Title'], as_index=False).mean()"
   ]
  },
  {
   "cell_type": "markdown",
   "metadata": {},
   "source": [
    "### Корреляции признаков"
   ]
  },
  {
   "cell_type": "markdown",
   "metadata": {},
   "source": [
    "Корреляция признаков позволяет оценить наличие линейных(монотонных) зависимостей между данными. Она бывают трех типов:\n",
    "- Положительные значение = Положительные корреляция, т.е. возрастание по одному признаку соответсвует возрастанию по другому признаку и наоборот.\n",
    "- Отрицательные значения = Обратные корреляции, т.е. возрастание по одному признаку, влечет уменьшение другого, и наоборот.\n",
    "- Нулевые занчения =  линейных(монотонных) зависимостей между данными нет."
   ]
  },
  {
   "cell_type": "markdown",
   "metadata": {},
   "source": [
    "Если наша задача выявить связь между выжившими и их данными, то нам необходимо фокусироваться на тех признаках, которые имеют сильные положительные и отрицательные корреляции с признаком Survived.\n",
    "\n",
    "Почему? Потому что это означает, что прогнозирование значения Survived имеет прямую зависимость с признакми с положительное корреляцией, и обратную - с отрицательными, т.о. если мы инвертируем обратные значения, то они тоже перейдут в разряд положительных корреляций."
   ]
  },
  {
   "cell_type": "code",
   "execution_count": null,
   "metadata": {},
   "outputs": [],
   "source": [
    "corr_matrix = df.corr()\n",
    "corr_matrix"
   ]
  },
  {
   "cell_type": "code",
   "execution_count": null,
   "metadata": {},
   "outputs": [],
   "source": [
    "corr_matrix.style.background_gradient(cmap='coolwarm')"
   ]
  },
  {
   "cell_type": "markdown",
   "metadata": {},
   "source": [
    "# Визуализация"
   ]
  },
  {
   "cell_type": "markdown",
   "metadata": {},
   "source": [
    "`Matplotlib` - это базовая библиотека для построения графиков и визуализации данных в Python. Если в `jupyter notebook` выполнить специальную магическую команду `%matplotlib inline`, то графики будут строиться в том же окне браузера. `matplotlib` позволяет строить двумерные графики практически всех нужных типов, с достаточно гибкой регулировкой их параметров; он также поддерживает основные типы трёхмерных графиков, но для серьёзной трёхмерной визуализации данных лучше пользоваться более мощными специализированными системами."
   ]
  },
  {
   "cell_type": "markdown",
   "metadata": {
    "id": "5KeYf-pJKFRR"
   },
   "source": [
    "Ниже приведены несколько полезных ссылок:\n",
    "\n",
    "[Официальная документация](https://matplotlib.org/stable/)\n",
    "\n",
    "[50 оттенков matplotlib](https://habr.com/ru/post/468295/)\n",
    "\n",
    "[Хороший tutorial](https://devpractice.ru/files/books/python/Matplotlib.book.pdf)\n"
   ]
  },
  {
   "cell_type": "markdown",
   "metadata": {
    "id": "6EEHh-j1nGrk"
   },
   "source": [
    "У функций в `matplotlib` много параметров.\n",
    "Для того, чтобы посмотреть все параметры, можно воспользоваться справкой, например,\n",
    "\n",
    "`plt.plot?`"
   ]
  },
  {
   "cell_type": "code",
   "execution_count": null,
   "metadata": {},
   "outputs": [],
   "source": [
    "#plt.plot?"
   ]
  },
  {
   "cell_type": "markdown",
   "metadata": {
    "id": "uydwARi7PkY_"
   },
   "source": [
    "## Препарируем график"
   ]
  },
  {
   "cell_type": "code",
   "execution_count": null,
   "metadata": {
    "colab": {
     "base_uri": "https://localhost:8080/",
     "height": 555
    },
    "id": "3jaAbCruPFV4",
    "outputId": "a29b21ae-a25f-40fc-a0d4-a51a05031036"
   },
   "outputs": [],
   "source": [
    "from matplotlib.ticker import AutoMinorLocator, MultipleLocator, FuncFormatter\n",
    "\n",
    "\n",
    "np.random.seed(19680801)\n",
    "\n",
    "X = np.linspace(0.5, 3.5, 100)\n",
    "Y1 = 3+np.cos(X)\n",
    "Y2 = 1+np.cos(1+X/0.75)/2\n",
    "Y3 = np.random.uniform(Y1, Y2, len(X))\n",
    "\n",
    "fig = plt.figure(figsize=(8, 8))\n",
    "ax = fig.add_subplot(1, 1, 1, aspect=1)\n",
    "\n",
    "\n",
    "def minor_tick(x, pos):\n",
    "    if not x % 1.0:\n",
    "        return \"\"\n",
    "    return \"%.2f\" % x\n",
    "\n",
    "ax.xaxis.set_major_locator(MultipleLocator(1.000))\n",
    "ax.xaxis.set_minor_locator(AutoMinorLocator(4))\n",
    "ax.yaxis.set_major_locator(MultipleLocator(1.000))\n",
    "ax.yaxis.set_minor_locator(AutoMinorLocator(4))\n",
    "ax.xaxis.set_minor_formatter(FuncFormatter(minor_tick))\n",
    "\n",
    "ax.set_xlim(0, 4)\n",
    "ax.set_ylim(0, 4)\n",
    "\n",
    "ax.tick_params(which='major', width=1.0)\n",
    "ax.tick_params(which='major', length=10)\n",
    "ax.tick_params(which='minor', width=1.0, labelsize=10)\n",
    "ax.tick_params(which='minor', length=5, labelsize=10, labelcolor='0.25')\n",
    "\n",
    "ax.grid(linestyle=\"--\", linewidth=0.5, color='.25', zorder=-10)\n",
    "\n",
    "ax.plot(X, Y1, c=(0.25, 0.25, 1.00), lw=2, label=\"Blue signal\", zorder=10)\n",
    "ax.plot(X, Y2, c=(1.00, 0.25, 0.25), lw=2, label=\"Red signal\")\n",
    "ax.plot(X, Y3, linewidth=0,\n",
    "        marker='o', markerfacecolor='w', markeredgecolor='k')\n",
    "\n",
    "ax.set_title(\"Anatomy of a figure\", fontsize=20, verticalalignment='bottom')\n",
    "ax.set_xlabel(\"X axis label\")\n",
    "ax.set_ylabel(\"Y axis label\")\n",
    "\n",
    "ax.legend( loc='upper right')\n",
    "\n",
    "\n",
    "def circle(x, y, radius=0.15):\n",
    "    from matplotlib.patches import Circle\n",
    "    from matplotlib.patheffects import withStroke\n",
    "    circle = Circle((x, y), radius, clip_on=False, zorder=10, linewidth=1,\n",
    "                    edgecolor='black', facecolor=(0, 0, 0, .0125),\n",
    "                    path_effects=[withStroke(linewidth=5, foreground='w')])\n",
    "    ax.add_artist(circle)\n",
    "\n",
    "\n",
    "def text(x, y, text):\n",
    "    ax.text(x, y, text, backgroundcolor=\"white\",\n",
    "            ha='center', va='top', weight='bold', color='blue')\n",
    "\n",
    "\n",
    "# Minor tick\n",
    "circle(0.50, -0.10)\n",
    "text(0.50, -0.32, \"Minor tick label\")\n",
    "\n",
    "# Major tick\n",
    "circle(-0.03, 4.00)\n",
    "text(0.03, 3.80, \"Major tick\")\n",
    "\n",
    "# Minor tick\n",
    "circle(0.00, 3.50)\n",
    "text(0.00, 3.30, \"Minor tick\")\n",
    "\n",
    "# Major tick label\n",
    "circle(-0.15, 3.00)\n",
    "text(-0.15, 2.80, \"Major tick label\")\n",
    "\n",
    "# X Label\n",
    "circle(1.80, -0.27)\n",
    "text(1.80, -0.45, \"X axis label\")\n",
    "\n",
    "# Y Label\n",
    "circle(-0.27, 1.80)\n",
    "text(-0.27, 1.6, \"Y axis label\")\n",
    "\n",
    "# Title\n",
    "circle(1.60, 4.13)\n",
    "text(1.60, 3.93, \"Title\")\n",
    "\n",
    "# Blue plot\n",
    "circle(1.75, 2.80)\n",
    "text(1.75, 2.60, \"Line\\n(line plot)\")\n",
    "\n",
    "# Red plot\n",
    "circle(1.20, 0.60)\n",
    "text(1.20, 0.40, \"Line\\n(line plot)\")\n",
    "\n",
    "# Scatter plot\n",
    "circle(3.20, 1.75)\n",
    "text(3.20, 1.55, \"Markers\\n(scatter plot)\")\n",
    "\n",
    "# Grid\n",
    "circle(3.00, 3.00)\n",
    "text(3.00, 2.80, \"Grid\")\n",
    "\n",
    "# Legend\n",
    "circle(3.70, 3.80)\n",
    "text(3.70, 3.60, \"Legend\")\n",
    "\n",
    "# Axes\n",
    "circle(0.5, 0.5)\n",
    "text(0.5, 0.3, \"Axes\")\n",
    "\n",
    "# Figure\n",
    "circle(-0.3, 0.65)\n",
    "text(-0.3, 0.45, \"Figure\")\n",
    "\n",
    "color = 'blue'\n",
    "ax.annotate('Spines', xy=(4.0, 0.35), xycoords='data',\n",
    "            xytext=(3.3, 0.5), textcoords='data',\n",
    "            weight='bold', color=color,\n",
    "            arrowprops=dict(arrowstyle='->',\n",
    "                            connectionstyle=\"arc3\",\n",
    "                            color=color))\n",
    "\n",
    "ax.annotate('', xy=(3.15, 0.0), xycoords='data',\n",
    "            xytext=(3.45, 0.45), textcoords='data',\n",
    "            weight='bold', color=color,\n",
    "            arrowprops=dict(arrowstyle='->',\n",
    "                            connectionstyle=\"arc3\",\n",
    "                            color=color))\n",
    "\n",
    "ax.text(4.0, -0.4, \"Made with http://matplotlib.org\",\n",
    "        fontsize=10, ha=\"right\", color='.5')\n",
    "\n",
    "plt.show()"
   ]
  },
  {
   "cell_type": "markdown",
   "metadata": {
    "id": "HkGHd2dNnTq9"
   },
   "source": [
    "## Простейший график"
   ]
  },
  {
   "cell_type": "markdown",
   "metadata": {
    "id": "MPikNsAYtr8F"
   },
   "source": [
    "Благодаря **Numpy** у нас всегда есть материалы в виде массивов чисел. \n",
    "\n",
    "Создадим ряд чисел одно за другим, подобно линии, с помощью команды `np.linspace()`\n",
    "\n",
    "Числа равномерно распределяются в интервале от **0** до **15** (это будут первые два значения в скобках). А всего чисел в ряде будет **100** (третье значение в скобках). Рассмотрим подробнее:\n"
   ]
  },
  {
   "cell_type": "code",
   "execution_count": null,
   "metadata": {
    "colab": {
     "base_uri": "https://localhost:8080/"
    },
    "id": "yLHGPWqFt0OP",
    "outputId": "64c6eb84-bc22-4562-a30b-082197da02ac"
   },
   "outputs": [],
   "source": [
    "x = np.linspace(0, 15, 100)\n",
    "print(x)"
   ]
  },
  {
   "cell_type": "markdown",
   "metadata": {},
   "source": [
    "Теперь это точки для построения графика синуса (значения по оси x). Для вычисления значений синуса (значений по оси y) вызовем `np.sin(x)`, где **x** – массив значений по горизонтали. При этом получится массив значений синуса, каждое из которых будет вычислено от аргумента на том же месте в массиве **x**."
   ]
  },
  {
   "cell_type": "code",
   "execution_count": null,
   "metadata": {
    "colab": {
     "base_uri": "https://localhost:8080/"
    },
    "id": "zOIEgpvSt6o0",
    "outputId": "b7d31a6f-892a-45d4-c8ca-e842d558924b"
   },
   "outputs": [],
   "source": [
    "y = np.sin(x) \n",
    "# Содержимое массива у выглядит так:\n",
    "print(y) "
   ]
  },
  {
   "cell_type": "markdown",
   "metadata": {
    "id": "r0Mq8DWFuBUj"
   },
   "source": [
    "**Как бы вы построили график, если у вас есть точки и для x, и для y?**\n",
    "\n",
    "Наверное, вы бы начертили две пересекающиеся линии, которые перпендикулярны (декартовы оси). Потом отметили место их пересечения как начало отсчета или «ноль». Потом решили, что вертикальная линия – это ваша ось **y**, горизонтальная – ось **x**, и начали бы поочередно наносить точки из массивов **x** и **y**, которые вы уже получили. Так бы получился график `sin(x)`, верно? \n",
    "\n",
    "Теперь это можно сделать за пару действий:"
   ]
  },
  {
   "cell_type": "code",
   "execution_count": null,
   "metadata": {
    "colab": {
     "base_uri": "https://localhost:8080/",
     "height": 265
    },
    "id": "FtdY7rl0uFkz",
    "outputId": "f3a6961e-617d-49f8-d509-b40d6c57fe28"
   },
   "outputs": [],
   "source": [
    "plt.plot(x, y)                                # Отрисовка графика командой plot(), в которую переданы массивы точек для x и y\n",
    "plt.show()                                    # С помощью .show() выводится график"
   ]
  },
  {
   "cell_type": "markdown",
   "metadata": {
    "id": "2CB3L05yuNTj"
   },
   "source": [
    "Если вам необходимо добавить на график подписи, то это в разы легче, чем написать их в тетради.\n",
    "\n",
    "В этом вам помогут дополнительные команды:"
   ]
  },
  {
   "cell_type": "code",
   "execution_count": null,
   "metadata": {
    "colab": {
     "base_uri": "https://localhost:8080/",
     "height": 295
    },
    "id": "eftzA3P5uNp7",
    "outputId": "69a8ed4f-7b71-4c73-d047-e04ca83f5e33"
   },
   "outputs": [],
   "source": [
    "plt.plot(x, y)                                # Отрисовка того же графика\n",
    "plt.title(\"y=sin(x)\")                         # Команда .title() - и график подписан указанным в скобках именем\n",
    "plt.xlabel('Переменная X')                    # Команда .xlabel() добавит надпись только для оси x\n",
    "plt.ylabel('Переменная Y')                    # А команда .ylabel() добавит надпись для оси y\n",
    "plt.show()                                    # Фиксация результата и вывод - командой .show()"
   ]
  },
  {
   "cell_type": "markdown",
   "metadata": {
    "id": "dPTnglGfuely"
   },
   "source": [
    "Также вы можете сделать график удобного для вас размера. Пространство, где он рисуется, называется полотном графика. Для указания размера полотна используйте команду `.figure()`. Не забудьте указать в скобках слово-параметр **figsize=** и в кортеже сами размеры для вашего графика:"
   ]
  },
  {
   "cell_type": "code",
   "execution_count": null,
   "metadata": {
    "colab": {
     "base_uri": "https://localhost:8080/",
     "height": 53
    },
    "id": "hZs7t5SUuirA",
    "outputId": "c8715195-a0ac-43e4-d25b-040b0ab10d6a"
   },
   "outputs": [],
   "source": [
    "plt.figure(figsize=(10, 5))                   # И вот - размер полотна в дюймах указан\n",
    "                                              # Первое число 10 - по оси x, второе число 5 - по оси y "
   ]
  },
  {
   "cell_type": "markdown",
   "metadata": {
    "id": "qQAbNF5eul2C"
   },
   "source": [
    "Несложно нарисовать и больше одного графика на одном и том же полотне. У вас часто будет возникать такая необходимость. Для этого продолжайте использовать команду `.plot()`. Не забудьте указать слегка видоизмененные данные, чтобы графики не перекрывали друг друга. Здесь используем обычную функцию из значений `cos(x)/2`, которая имеется в **Numpy**:"
   ]
  },
  {
   "cell_type": "code",
   "execution_count": null,
   "metadata": {
    "colab": {
     "base_uri": "https://localhost:8080/",
     "height": 283
    },
    "id": "UKjOtTp8uoCC",
    "outputId": "5381d82e-31b6-413a-a6fe-f9fb0e769b4b"
   },
   "outputs": [],
   "source": [
    "plt.plot(x, y, label='sin(x)')                # Параметр label поможет подписать кривую графика (см. далее)\n",
    "plt.plot(x, np.cos(x)/2, label='cos(x)/2')    # А так добавляется еще один график на полотно"
   ]
  },
  {
   "cell_type": "code",
   "execution_count": null,
   "metadata": {
    "colab": {
     "base_uri": "https://localhost:8080/",
     "height": 350
    },
    "id": "b8rakqkrutsV",
    "outputId": "4e3cc3ad-5b5e-42c8-e027-557d56a9c33b"
   },
   "outputs": [],
   "source": [
    "plt.figure(figsize=(10, 5))                   # Здесь задаётся размер полотна в дюймах\n",
    "                                              # по оси x и y соответственно\n",
    "\n",
    "plt.plot(x, y, label='sin(x)')                # Эта команда строит график, а параметр label задает подпись кривой\n",
    "plt.plot(x, np.cos(x)/2, label='cos(x)/2')    # Эта команда строит еще один график cos(x) на полотне\n",
    "\n",
    "plt.title(\"y = sin(x)\")                       # Заголовок графика\n",
    "plt.xlabel('Переменная X')                    # Надпись для оси x\n",
    "plt.ylabel('Переменная Y')                    # Надпись для оси y\n",
    "\n",
    "plt.legend()                                  # команда для \"легенды\" - legend()\n",
    "                                              # Она позволяет отобразить подписи кривых, указанные в .plot(label=)\n",
    "\n",
    "plt.grid()                                    # команда grid(), чтобы отрисовать сетку на фоне\n",
    "\n",
    "plt.show()                                    # Команда для воплощения графика в жизнь "
   ]
  },
  {
   "cell_type": "markdown",
   "metadata": {
    "id": "ftoQBGIwvEjD"
   },
   "source": [
    "А теперь красивый график"
   ]
  },
  {
   "cell_type": "code",
   "execution_count": null,
   "metadata": {
    "colab": {
     "base_uri": "https://localhost:8080/",
     "height": 458
    },
    "id": "3tUA3-IzvH7L",
    "outputId": "0d87af37-088c-4492-e4b3-50e539712ae0"
   },
   "outputs": [],
   "source": [
    "plt.figure(figsize=(14, 7))                   # Задание размера полотна в дюймах\n",
    "\n",
    "plt.plot(x,y , label='sin(x)', color='#4b0082', linewidth=4,\n",
    "         marker='h', markerfacecolor='lightgreen', markeredgewidth=2,\n",
    "         markersize=10, markevery=5)\n",
    "\n",
    "plt.plot(x, np.cos(x)/2, label='cos(x)/2', linewidth=3, color='lightcoral',\n",
    "         marker='D', markeredgecolor='black', markevery=5)\n",
    "\n",
    "plt.title('y = sin(x)')                       # Заголовок графика\n",
    "plt.xlabel('Переменная X')                    # Надпись для оси x\n",
    "plt.ylabel('Переменная Y')                    # Надпись для оси y\n",
    "\n",
    "plt.legend()                                  # Отрисовка названий графиков (\"легенды\")\n",
    "\n",
    "plt.grid()                                    # Отрисовка сетки\n",
    "\n",
    "plt.show()                                    # Вывод графика"
   ]
  },
  {
   "cell_type": "markdown",
   "metadata": {
    "id": "_Wa_nH64vOn0"
   },
   "source": [
    "Некоторые параметры, которые использовались выше в скобках команд:\n",
    "- **marker** – тип маркера;\n",
    "- **color** – цвет линии;\n",
    "- **mec** – цвет маркера;\n",
    "- **linestyle** – стиль линии;\n",
    "- **label** – подпись кривой графика;\n",
    "- **linewidth** – ширина линии;\n",
    "- **markersize** – размер маркера.\n",
    "\n",
    "Другие команды вы найдете в полном описании документации **Matplotlib**. Описанные там элементы стиля дают возможность существенно улучшить наглядность графика.\n"
   ]
  },
  {
   "cell_type": "markdown",
   "metadata": {
    "id": "hU4D7j681FK5"
   },
   "source": [
    "# Визуальный анализ данных"
   ]
  },
  {
   "cell_type": "markdown",
   "metadata": {
    "id": "xU-dSMX51ofj"
   },
   "source": [
    "Давайте на практике остроим разные графики разведочного анализа данных для набора Титаника."
   ]
  },
  {
   "cell_type": "code",
   "execution_count": null,
   "metadata": {
    "colab": {
     "base_uri": "https://localhost:8080/",
     "height": 250
    },
    "id": "S5XDKFrq2azJ",
    "outputId": "9d3cf9c6-4324-4528-c76c-35b0bdec6575"
   },
   "outputs": [],
   "source": [
    "df.head()"
   ]
  },
  {
   "cell_type": "markdown",
   "metadata": {},
   "source": [
    "Визуализируем пропуски"
   ]
  },
  {
   "cell_type": "code",
   "execution_count": null,
   "metadata": {},
   "outputs": [],
   "source": [
    "#!pip install missingno #установка новой библиотеки\n",
    "import missingno #подключение новой библиотеки\n",
    "missingno.matrix(df)"
   ]
  },
  {
   "cell_type": "markdown",
   "metadata": {
    "id": "vODuCpN62kqS"
   },
   "source": [
    "### Сколько выживших?"
   ]
  },
  {
   "cell_type": "code",
   "execution_count": null,
   "metadata": {
    "colab": {
     "base_uri": "https://localhost:8080/",
     "height": 495
    },
    "id": "1WHf3x2Q2f9D",
    "outputId": "485e190f-8009-4262-962b-f4f76b71b35d"
   },
   "outputs": [],
   "source": [
    "f, ax=plt.subplots(1,2,figsize=(18,8)) # одна строка и два столбца графиков\n",
    "df['Survived'].value_counts().plot.pie(explode=[0,0.2],autopct='%1.1f%%',ax=ax[0],shadow=True)\n",
    "ax[0].set_title('Выжившие')\n",
    "ax[0].set_ylabel('')\n",
    "df['Survived'].value_counts().plot.bar(ax=ax[1])\n",
    "ax[1].set_title('Выжившие')\n",
    "plt.show()"
   ]
  },
  {
   "cell_type": "markdown",
   "metadata": {
    "id": "5c_p4wz24OrK"
   },
   "source": [
    "### Категориальные переменные"
   ]
  },
  {
   "cell_type": "markdown",
   "metadata": {
    "id": "CFTtUh1j4s85"
   },
   "source": [
    "Категориальные переменные - переменные, значения которых являются некоторыми категориями. К примеру, пол - это категориальная переменная, которая имеет два возможных значения (мужчина и женщина). Такие переменные не нельзя отсортировать или задать для них порядок. Ещё такие признаки называют качественными."
   ]
  },
  {
   "cell_type": "markdown",
   "metadata": {},
   "source": [
    "**Столбчатая диаграмма** - методы `plot.bar()` и `plot.barh()` строят вертикальные и горизонтальные столбчатые диаграммы. В этом случае индексы объектов `Series` и `DataFrame` используются в качестве меток на оси `x` (`bar`) или `y` (`barh`)."
   ]
  },
  {
   "cell_type": "code",
   "execution_count": null,
   "metadata": {
    "id": "2VoRZCVx2f_x"
   },
   "outputs": [],
   "source": [
    "def bar_plot(variable):\n",
    " \n",
    "    # получаем переменные\n",
    "    var = df[variable]\n",
    "    # считаем количество значений для категириальной переменной\n",
    "    varValue = var.value_counts()\n",
    "    \n",
    "    # визуализируем\n",
    "    plt.figure(figsize = (10,5))\n",
    "    plt.bar(varValue.index, varValue)\n",
    "    plt.xticks(varValue.index, varValue.index.values)\n",
    "    plt.ylabel(\"Частота\")\n",
    "    plt.title(variable)\n",
    "    plt.show()\n",
    "    print(\"{}: \\n {}\".format(variable, varValue))"
   ]
  },
  {
   "cell_type": "code",
   "execution_count": null,
   "metadata": {
    "colab": {
     "base_uri": "https://localhost:8080/",
     "height": 1000
    },
    "id": "kcoSWBhB2gCc",
    "outputId": "52d58e15-5a4e-4855-c2d4-ac2aab8f54e4",
    "scrolled": false
   },
   "outputs": [],
   "source": [
    "category = [\"Survived\",\"Sex\",\"Pclass\",\"Embarked\",\"SibSp\", \"Parch\"]\n",
    "for c in category:\n",
    "    bar_plot(c)"
   ]
  },
  {
   "cell_type": "markdown",
   "metadata": {
    "id": "yPldeoC1_i9E"
   },
   "source": [
    "### Пол"
   ]
  },
  {
   "cell_type": "code",
   "execution_count": null,
   "metadata": {
    "colab": {
     "base_uri": "https://localhost:8080/"
    },
    "id": "bFnTmOJx6z59",
    "outputId": "24700b38-4479-47e9-84f5-e63b64f01e6f"
   },
   "outputs": [],
   "source": [
    "df.groupby(['Sex','Survived'])['Survived'].count()"
   ]
  },
  {
   "cell_type": "code",
   "execution_count": null,
   "metadata": {
    "colab": {
     "base_uri": "https://localhost:8080/",
     "height": 548
    },
    "id": "riVwGoH06z8q",
    "outputId": "30ba5503-15b6-4767-b053-7f982d5330eb"
   },
   "outputs": [],
   "source": [
    "f,ax=plt.subplots(1,2,figsize=(18,8))\n",
    "df[['Sex','Survived']].groupby(['Sex']).mean().plot.bar(ax=ax[0])\n",
    "ax[0].set_title('Survived vs Sex')\n",
    "sns.countplot(x=df['Sex'], hue=df['Survived'], ax=ax[1])\n",
    "ax[1].set_title('Распределение выживших по полу')\n",
    "plt.show()"
   ]
  },
  {
   "cell_type": "markdown",
   "metadata": {
    "id": "xP8YZdWc_96U"
   },
   "source": [
    "Мужчин на борту было ощутимо больше чем женщин. И всё же количество спасшихся женщин почти в двое больше спасшихся мужчин. Процент выживаемости для женщин около 75%, в то время как для мужчин он составляет примерно 18-19%."
   ]
  },
  {
   "cell_type": "markdown",
   "metadata": {
    "id": "t1lr-1S8AGKB"
   },
   "source": [
    "### Pclass "
   ]
  },
  {
   "cell_type": "code",
   "execution_count": null,
   "metadata": {
    "colab": {
     "base_uri": "https://localhost:8080/",
     "height": 206
    },
    "id": "pfPWRwSS6z_j",
    "outputId": "38750a29-c40d-4921-c171-1b0ce3a7a553"
   },
   "outputs": [],
   "source": [
    "pd.crosstab(df.Pclass,df.Survived,margins=True).style.background_gradient(cmap='summer_r')"
   ]
  },
  {
   "cell_type": "code",
   "execution_count": null,
   "metadata": {
    "colab": {
     "base_uri": "https://localhost:8080/",
     "height": 513
    },
    "id": "38SjQfp960B1",
    "outputId": "8b2fe0aa-45ba-48f8-e809-906b57771b9d"
   },
   "outputs": [],
   "source": [
    "f,ax=plt.subplots(1,2,figsize=(18,8))\n",
    "df['Pclass'].value_counts().plot.bar(color=['#CD7F32','#FFDF00','#D3D3D3'],ax=ax[0])\n",
    "ax[0].set_title('Количество пассажиров различных классов')\n",
    "ax[0].set_ylabel('Количество')\n",
    "sns.countplot(x=df['Pclass'],hue=df['Survived'],ax=ax[1])\n",
    "ax[1].set_title('Распределение выживших по классу')\n",
    "plt.show()"
   ]
  },
  {
   "cell_type": "markdown",
   "metadata": {
    "id": "AgzJ_EuwAnTX"
   },
   "source": [
    "Но как мы видим у пассажиров первого класса было на много больше шансов на спасение. Хотя в третьем классе и было куда больше пассажиров выживших среди них не много, спаслись примерно 25%. Из пассажиров первого класса спаслись примерно 63%, из пассажиров второго класса примерно 48%."
   ]
  },
  {
   "cell_type": "markdown",
   "metadata": {
    "id": "U5eBWOVb5sjR"
   },
   "source": [
    "## Числовые переменные"
   ]
  },
  {
   "cell_type": "markdown",
   "metadata": {},
   "source": [
    "**Гистограмма плотности распределения** — это столбиковая диаграмма, которая показывает, как данные распределяются по группам значений. Собранные данные представляют в виде ряда прямоугольников, одинаковых по ширине и различающихся по высоте. Анализ характера изменения высот позволяет оценить динамику процесса.\n",
    "\n",
    "Ось Y показывает с какой вероятностью случайно выбранное значение из ряда будет принадлежать определенному интервалу."
   ]
  },
  {
   "cell_type": "code",
   "execution_count": null,
   "metadata": {
    "id": "gVKqHOfB2gHP"
   },
   "outputs": [],
   "source": [
    "def plot_hist(variable):\n",
    "    plt.figure(figsize = (10,5))\n",
    "    plt.hist(df[variable], bins = 50, color='green', density=True)\n",
    "    plt.xlabel(variable)\n",
    "    plt.ylabel(\"Частота\")\n",
    "    plt.title(\"Распределение переменной {}\".format(variable))\n",
    "    plt.show()"
   ]
  },
  {
   "cell_type": "code",
   "execution_count": null,
   "metadata": {
    "colab": {
     "base_uri": "https://localhost:8080/",
     "height": 1000
    },
    "id": "R5Rvf9ZJ55-Q",
    "outputId": "9970c01f-63d5-4659-a19b-da96195de0b6"
   },
   "outputs": [],
   "source": [
    "numeric = [\"Fare\", \"Age\",\"PassengerId\"]\n",
    "for n in numeric:\n",
    "    plot_hist(n)"
   ]
  },
  {
   "cell_type": "markdown",
   "metadata": {
    "id": "1z0Bb7HLD19q"
   },
   "source": [
    "**Диаграмма рассеяния** - еще один часто используемый тип графика является простой точечный график, близкий родственник линейного графика. Вместо того, чтобы точки соединялись отрезками линий, здесь точки представлены по отдельности точкой, кругом или другой формой. Позволяет построить распределение двух колонок данных и визуально обнаружить наличие зависимости. Не предполагается, что значения упорядочены (например, по времени).\n",
    "\n",
    "Построим график зависмости стоимости билета от возраста. Можно ли увидеть какую-либо зависимость?"
   ]
  },
  {
   "cell_type": "code",
   "execution_count": null,
   "metadata": {
    "colab": {
     "base_uri": "https://localhost:8080/",
     "height": 388
    },
    "id": "i0nty7h0D1Tg",
    "outputId": "a70cfc14-c3d1-47ff-8cf2-1135341c0ce8"
   },
   "outputs": [],
   "source": [
    "fig, ax = plt.subplots(figsize=(10, 6))\n",
    "ax.scatter(x = df['Age'], y = df['Fare'])\n",
    "plt.xlabel(\"Возраст\")\n",
    "plt.ylabel(\"Цена билета\")\n",
    "plt.show()"
   ]
  },
  {
   "cell_type": "code",
   "execution_count": null,
   "metadata": {},
   "outputs": [],
   "source": [
    "fig, ax = plt.subplots(figsize=(10, 5))\n",
    "\n",
    "ax.scatter(df[df[\"Survived\"]==1][\"Age\"], df[df[\"Survived\"]==1][\"Fare\"], c=\"blue\", alpha=0.5)\n",
    "ax.scatter(df[df[\"Survived\"]==0][\"Age\"], df[df[\"Survived\"]==0][\"Fare\"], c=\"green\", alpha=0.5)\n",
    "\n",
    "ax.set_xlabel(\"Возраст\")\n",
    "ax.set_ylabel(\"Цена билета\")\n",
    "\n",
    "\n",
    "ax.legend(handles=color_patches)\n",
    "\n",
    "fig.suptitle(\"Выживаемость пассажиров в зависимости от возраста и стоимости билета\");"
   ]
  },
  {
   "cell_type": "markdown",
   "metadata": {
    "id": "Me4rUE9rCBhO"
   },
   "source": [
    "[**Box plot**](https://ru.wikipedia.org/wiki/Ящик_с_усами) &mdash; график, использующийся в описательной статистике, компактно изображающий одномерное распределение вероятностей.\n",
    "\n",
    "Такой вид диаграммы в удобной форме показывает медиану (или, если нужно, среднее), нижний и верхний квартили, минимальное и максимальное значение выборки и выбросы. Несколько таких ящиков можно нарисовать бок о бок, чтобы визуально сравнивать одно распределение с другим; их можно располагать как горизонтально, так и вертикально. Расстояния между различными частями ящика позволяют определить степень разброса (дисперсии) и асимметрии данных и выявить выбросы."
   ]
  },
  {
   "cell_type": "code",
   "execution_count": null,
   "metadata": {
    "colab": {
     "base_uri": "https://localhost:8080/",
     "height": 513
    },
    "id": "GGmFmQxy6ViS",
    "outputId": "db042fb3-d075-4e41-e5d1-639143e297a2"
   },
   "outputs": [],
   "source": [
    "f,ax=plt.subplots(1,2,figsize=(18,8))\n",
    "sns.boxplot(x = 'Pclass', y = 'Age', hue = 'Survived', data = df, palette = 'flare', ax=ax[0])\n",
    "ax[0].set_title('Pclass and Age vs Survived')\n",
    "ax[0].set_yticks(range(0,110,10))\n",
    "sns.boxplot(x = 'Sex', y = 'Age', hue = 'Survived', data = df, ax=ax[1])\n",
    "ax[1].set_title('Sex and Age vs Survived')\n",
    "ax[1].set_yticks(range(0,110,10))\n",
    "plt.show()\n",
    "f.savefig('saved_figure-100pi.png', dpi = 100) # сохранение графика"
   ]
  },
  {
   "cell_type": "markdown",
   "metadata": {
    "id": "8pZp7-7fCcuS"
   },
   "source": [
    "1) Число детей увеличивается с классом и показатель выживаемости для пассажиров младше 10 лет (т. е. детей) выглядит неплохим не зависимо от класса.\n",
    "\n",
    "2) Шансы выжить для пассажиров в возрасте от 20 до 50 лет из первого класса довольно высокие и ещё выше для женщин.\n",
    "\n",
    "3) Для мужчин шанс выжить понижается с повышением возраста."
   ]
  },
  {
   "cell_type": "markdown",
   "metadata": {},
   "source": [
    "### Тепловая карта корреляций"
   ]
  },
  {
   "cell_type": "code",
   "execution_count": null,
   "metadata": {},
   "outputs": [],
   "source": [
    "plt.figure(figsize=(15,6))\n",
    "sns.heatmap(df.corr(), vmax=0.6, square=True, annot=True)"
   ]
  },
  {
   "cell_type": "markdown",
   "metadata": {},
   "source": [
    "### Парные диаграммы"
   ]
  },
  {
   "cell_type": "markdown",
   "metadata": {},
   "source": [
    "Комбинация гистограмм и диаграмм рассеивания для всего набора данных. Выводится матрица графиков. На пересечении строки и столбца, которые соответствуют двум показателям, строится диаграмма рассеивания. В главной диагонали матрицы строятся гистограммы распределения соответствующих показателей."
   ]
  },
  {
   "cell_type": "code",
   "execution_count": null,
   "metadata": {},
   "outputs": [],
   "source": [
    "sns.pairplot(df)"
   ]
  },
  {
   "cell_type": "code",
   "execution_count": null,
   "metadata": {},
   "outputs": [],
   "source": []
  }
 ],
 "metadata": {
  "colab": {
   "provenance": [],
   "toc_visible": true
  },
  "kernelspec": {
   "display_name": "Python 3 (ipykernel)",
   "language": "python",
   "name": "python3"
  },
  "language_info": {
   "codemirror_mode": {
    "name": "ipython",
    "version": 3
   },
   "file_extension": ".py",
   "mimetype": "text/x-python",
   "name": "python",
   "nbconvert_exporter": "python",
   "pygments_lexer": "ipython3",
   "version": "3.8.16"
  }
 },
 "nbformat": 4,
 "nbformat_minor": 1
}
